{
 "cells": [
  {
   "cell_type": "code",
   "execution_count": 1,
   "metadata": {
    "collapsed": true
   },
   "outputs": [],
   "source": [
    "import sys\n",
    "sys.path.append(\"..\")\n",
    "from TextToSolver import TextToSolver as tts\n",
    "import numpy as np\n",
    "\n",
    "from bokeh.resources import INLINE\n",
    "from bokeh.io import curdoc, output_notebook, push_notebook\n",
    "from bokeh.layouts import row, widgetbox\n",
    "from bokeh.models import ColumnDataSource\n",
    "from bokeh.models.widgets import Slider, TextInput\n",
    "from bokeh.plotting import *\n",
    "from ipywidgets import interact"
   ]
  },
  {
   "cell_type": "code",
   "execution_count": 2,
   "metadata": {},
   "outputs": [
    {
     "data": {
      "text/html": [
       "\n",
       "    <div class=\"bk-root\">\n",
       "        <a href=\"https://bokeh.pydata.org\" target=\"_blank\" class=\"bk-logo bk-logo-small bk-logo-notebook\"></a>\n",
       "        <span id=\"055df64d-af84-4ac8-90fa-ff0692435961\">Loading BokehJS ...</span>\n",
       "    </div>"
      ]
     },
     "metadata": {},
     "output_type": "display_data"
    },
    {
     "data": {
      "application/javascript": [
       "\n",
       "(function(root) {\n",
       "  function now() {\n",
       "    return new Date();\n",
       "  }\n",
       "\n",
       "  var force = true;\n",
       "\n",
       "  if (typeof (root._bokeh_onload_callbacks) === \"undefined\" || force === true) {\n",
       "    root._bokeh_onload_callbacks = [];\n",
       "    root._bokeh_is_loading = undefined;\n",
       "  }\n",
       "\n",
       "  var JS_MIME_TYPE = 'application/javascript';\n",
       "  var HTML_MIME_TYPE = 'text/html';\n",
       "  var EXEC_MIME_TYPE = 'application/vnd.bokehjs_exec.v0+json';\n",
       "  var CLASS_NAME = 'output_bokeh rendered_html';\n",
       "\n",
       "  /**\n",
       "   * Render data to the DOM node\n",
       "   */\n",
       "  function render(props, node) {\n",
       "    var script = document.createElement(\"script\");\n",
       "    node.appendChild(script);\n",
       "  }\n",
       "\n",
       "  /**\n",
       "   * Handle when an output is cleared or removed\n",
       "   */\n",
       "  function handleClearOutput(event, handle) {\n",
       "    var cell = handle.cell;\n",
       "\n",
       "    var id = cell.output_area._bokeh_element_id;\n",
       "    var server_id = cell.output_area._bokeh_server_id;\n",
       "    // Clean up Bokeh references\n",
       "    if (id !== undefined) {\n",
       "      Bokeh.index[id].model.document.clear();\n",
       "      delete Bokeh.index[id];\n",
       "    }\n",
       "\n",
       "    if (server_id !== undefined) {\n",
       "      // Clean up Bokeh references\n",
       "      var cmd = \"from bokeh.io.state import curstate; print(curstate().uuid_to_server['\" + server_id + \"'].get_sessions()[0].document.roots[0]._id)\";\n",
       "      cell.notebook.kernel.execute(cmd, {\n",
       "        iopub: {\n",
       "          output: function(msg) {\n",
       "            var element_id = msg.content.text.trim();\n",
       "            Bokeh.index[element_id].model.document.clear();\n",
       "            delete Bokeh.index[element_id];\n",
       "          }\n",
       "        }\n",
       "      });\n",
       "      // Destroy server and session\n",
       "      var cmd = \"import bokeh.io.notebook as ion; ion.destroy_server('\" + server_id + \"')\";\n",
       "      cell.notebook.kernel.execute(cmd);\n",
       "    }\n",
       "  }\n",
       "\n",
       "  /**\n",
       "   * Handle when a new output is added\n",
       "   */\n",
       "  function handleAddOutput(event, handle) {\n",
       "    var output_area = handle.output_area;\n",
       "    var output = handle.output;\n",
       "\n",
       "    // limit handleAddOutput to display_data with EXEC_MIME_TYPE content only\n",
       "    if ((output.output_type != \"display_data\") || (!output.data.hasOwnProperty(EXEC_MIME_TYPE))) {\n",
       "      return\n",
       "    }\n",
       "\n",
       "    var toinsert = output_area.element.find(`.${CLASS_NAME.split(' ')[0]}`);\n",
       "\n",
       "    if (output.metadata[EXEC_MIME_TYPE][\"id\"] !== undefined) {\n",
       "      toinsert[0].firstChild.textContent = output.data[JS_MIME_TYPE];\n",
       "      // store reference to embed id on output_area\n",
       "      output_area._bokeh_element_id = output.metadata[EXEC_MIME_TYPE][\"id\"];\n",
       "    }\n",
       "    if (output.metadata[EXEC_MIME_TYPE][\"server_id\"] !== undefined) {\n",
       "      var bk_div = document.createElement(\"div\");\n",
       "      bk_div.innerHTML = output.data[HTML_MIME_TYPE];\n",
       "      var script_attrs = bk_div.children[0].attributes;\n",
       "      for (var i = 0; i < script_attrs.length; i++) {\n",
       "        toinsert[0].firstChild.setAttribute(script_attrs[i].name, script_attrs[i].value);\n",
       "      }\n",
       "      // store reference to server id on output_area\n",
       "      output_area._bokeh_server_id = output.metadata[EXEC_MIME_TYPE][\"server_id\"];\n",
       "    }\n",
       "  }\n",
       "\n",
       "  function register_renderer(events, OutputArea) {\n",
       "\n",
       "    function append_mime(data, metadata, element) {\n",
       "      // create a DOM node to render to\n",
       "      var toinsert = this.create_output_subarea(\n",
       "        metadata,\n",
       "        CLASS_NAME,\n",
       "        EXEC_MIME_TYPE\n",
       "      );\n",
       "      this.keyboard_manager.register_events(toinsert);\n",
       "      // Render to node\n",
       "      var props = {data: data, metadata: metadata[EXEC_MIME_TYPE]};\n",
       "      render(props, toinsert[0]);\n",
       "      element.append(toinsert);\n",
       "      return toinsert\n",
       "    }\n",
       "\n",
       "    /* Handle when an output is cleared or removed */\n",
       "    events.on('clear_output.CodeCell', handleClearOutput);\n",
       "    events.on('delete.Cell', handleClearOutput);\n",
       "\n",
       "    /* Handle when a new output is added */\n",
       "    events.on('output_added.OutputArea', handleAddOutput);\n",
       "\n",
       "    /**\n",
       "     * Register the mime type and append_mime function with output_area\n",
       "     */\n",
       "    OutputArea.prototype.register_mime_type(EXEC_MIME_TYPE, append_mime, {\n",
       "      /* Is output safe? */\n",
       "      safe: true,\n",
       "      /* Index of renderer in `output_area.display_order` */\n",
       "      index: 0\n",
       "    });\n",
       "  }\n",
       "\n",
       "  // register the mime type if in Jupyter Notebook environment and previously unregistered\n",
       "  if (root.Jupyter !== undefined) {\n",
       "    var events = require('base/js/events');\n",
       "    var OutputArea = require('notebook/js/outputarea').OutputArea;\n",
       "\n",
       "    if (OutputArea.prototype.mime_types().indexOf(EXEC_MIME_TYPE) == -1) {\n",
       "      register_renderer(events, OutputArea);\n",
       "    }\n",
       "  }\n",
       "\n",
       "  \n",
       "  if (typeof (root._bokeh_timeout) === \"undefined\" || force === true) {\n",
       "    root._bokeh_timeout = Date.now() + 5000;\n",
       "    root._bokeh_failed_load = false;\n",
       "  }\n",
       "\n",
       "  var NB_LOAD_WARNING = {'data': {'text/html':\n",
       "     \"<div style='background-color: #fdd'>\\n\"+\n",
       "     \"<p>\\n\"+\n",
       "     \"BokehJS does not appear to have successfully loaded. If loading BokehJS from CDN, this \\n\"+\n",
       "     \"may be due to a slow or bad network connection. Possible fixes:\\n\"+\n",
       "     \"</p>\\n\"+\n",
       "     \"<ul>\\n\"+\n",
       "     \"<li>re-rerun `output_notebook()` to attempt to load from CDN again, or</li>\\n\"+\n",
       "     \"<li>use INLINE resources instead, as so:</li>\\n\"+\n",
       "     \"</ul>\\n\"+\n",
       "     \"<code>\\n\"+\n",
       "     \"from bokeh.resources import INLINE\\n\"+\n",
       "     \"output_notebook(resources=INLINE)\\n\"+\n",
       "     \"</code>\\n\"+\n",
       "     \"</div>\"}};\n",
       "\n",
       "  function display_loaded() {\n",
       "    var el = document.getElementById(\"055df64d-af84-4ac8-90fa-ff0692435961\");\n",
       "    if (el != null) {\n",
       "      el.textContent = \"BokehJS is loading...\";\n",
       "    }\n",
       "    if (root.Bokeh !== undefined) {\n",
       "      if (el != null) {\n",
       "        el.textContent = \"BokehJS \" + root.Bokeh.version + \" successfully loaded.\";\n",
       "      }\n",
       "    } else if (Date.now() < root._bokeh_timeout) {\n",
       "      setTimeout(display_loaded, 100)\n",
       "    }\n",
       "  }\n",
       "\n",
       "\n",
       "  function run_callbacks() {\n",
       "    try {\n",
       "      root._bokeh_onload_callbacks.forEach(function(callback) { callback() });\n",
       "    }\n",
       "    finally {\n",
       "      delete root._bokeh_onload_callbacks\n",
       "    }\n",
       "    console.info(\"Bokeh: all callbacks have finished\");\n",
       "  }\n",
       "\n",
       "  function load_libs(js_urls, callback) {\n",
       "    root._bokeh_onload_callbacks.push(callback);\n",
       "    if (root._bokeh_is_loading > 0) {\n",
       "      console.log(\"Bokeh: BokehJS is being loaded, scheduling callback at\", now());\n",
       "      return null;\n",
       "    }\n",
       "    if (js_urls == null || js_urls.length === 0) {\n",
       "      run_callbacks();\n",
       "      return null;\n",
       "    }\n",
       "    console.log(\"Bokeh: BokehJS not loaded, scheduling load and callback at\", now());\n",
       "    root._bokeh_is_loading = js_urls.length;\n",
       "    for (var i = 0; i < js_urls.length; i++) {\n",
       "      var url = js_urls[i];\n",
       "      var s = document.createElement('script');\n",
       "      s.src = url;\n",
       "      s.async = false;\n",
       "      s.onreadystatechange = s.onload = function() {\n",
       "        root._bokeh_is_loading--;\n",
       "        if (root._bokeh_is_loading === 0) {\n",
       "          console.log(\"Bokeh: all BokehJS libraries loaded\");\n",
       "          run_callbacks()\n",
       "        }\n",
       "      };\n",
       "      s.onerror = function() {\n",
       "        console.warn(\"failed to load library \" + url);\n",
       "      };\n",
       "      console.log(\"Bokeh: injecting script tag for BokehJS library: \", url);\n",
       "      document.getElementsByTagName(\"head\")[0].appendChild(s);\n",
       "    }\n",
       "  };var element = document.getElementById(\"055df64d-af84-4ac8-90fa-ff0692435961\");\n",
       "  if (element == null) {\n",
       "    console.log(\"Bokeh: ERROR: autoload.js configured with elementid '055df64d-af84-4ac8-90fa-ff0692435961' but no matching script tag was found. \")\n",
       "    return false;\n",
       "  }\n",
       "\n",
       "  var js_urls = [\"https://cdn.pydata.org/bokeh/release/bokeh-0.12.10.min.js\", \"https://cdn.pydata.org/bokeh/release/bokeh-widgets-0.12.10.min.js\", \"https://cdn.pydata.org/bokeh/release/bokeh-tables-0.12.10.min.js\", \"https://cdn.pydata.org/bokeh/release/bokeh-gl-0.12.10.min.js\"];\n",
       "\n",
       "  var inline_js = [\n",
       "    function(Bokeh) {\n",
       "      Bokeh.set_log_level(\"info\");\n",
       "    },\n",
       "    \n",
       "    function(Bokeh) {\n",
       "      \n",
       "    },\n",
       "    function(Bokeh) {\n",
       "      console.log(\"Bokeh: injecting CSS: https://cdn.pydata.org/bokeh/release/bokeh-0.12.10.min.css\");\n",
       "      Bokeh.embed.inject_css(\"https://cdn.pydata.org/bokeh/release/bokeh-0.12.10.min.css\");\n",
       "      console.log(\"Bokeh: injecting CSS: https://cdn.pydata.org/bokeh/release/bokeh-widgets-0.12.10.min.css\");\n",
       "      Bokeh.embed.inject_css(\"https://cdn.pydata.org/bokeh/release/bokeh-widgets-0.12.10.min.css\");\n",
       "      console.log(\"Bokeh: injecting CSS: https://cdn.pydata.org/bokeh/release/bokeh-tables-0.12.10.min.css\");\n",
       "      Bokeh.embed.inject_css(\"https://cdn.pydata.org/bokeh/release/bokeh-tables-0.12.10.min.css\");\n",
       "    }\n",
       "  ];\n",
       "\n",
       "  function run_inline_js() {\n",
       "    \n",
       "    if ((root.Bokeh !== undefined) || (force === true)) {\n",
       "      for (var i = 0; i < inline_js.length; i++) {\n",
       "        inline_js[i].call(root, root.Bokeh);\n",
       "      }if (force === true) {\n",
       "        display_loaded();\n",
       "      }} else if (Date.now() < root._bokeh_timeout) {\n",
       "      setTimeout(run_inline_js, 100);\n",
       "    } else if (!root._bokeh_failed_load) {\n",
       "      console.log(\"Bokeh: BokehJS failed to load within specified timeout.\");\n",
       "      root._bokeh_failed_load = true;\n",
       "    } else if (force !== true) {\n",
       "      var cell = $(document.getElementById(\"055df64d-af84-4ac8-90fa-ff0692435961\")).parents('.cell').data().cell;\n",
       "      cell.output_area.append_execute_result(NB_LOAD_WARNING)\n",
       "    }\n",
       "\n",
       "  }\n",
       "\n",
       "  if (root._bokeh_is_loading === 0) {\n",
       "    console.log(\"Bokeh: BokehJS loaded, going straight to plotting\");\n",
       "    run_inline_js();\n",
       "  } else {\n",
       "    load_libs(js_urls, function() {\n",
       "      console.log(\"Bokeh: BokehJS plotting callback run at\", now());\n",
       "      run_inline_js();\n",
       "    });\n",
       "  }\n",
       "}(window));"
      ],
      "application/vnd.bokehjs_load.v0+json": "\n(function(root) {\n  function now() {\n    return new Date();\n  }\n\n  var force = true;\n\n  if (typeof (root._bokeh_onload_callbacks) === \"undefined\" || force === true) {\n    root._bokeh_onload_callbacks = [];\n    root._bokeh_is_loading = undefined;\n  }\n\n  \n\n  \n  if (typeof (root._bokeh_timeout) === \"undefined\" || force === true) {\n    root._bokeh_timeout = Date.now() + 5000;\n    root._bokeh_failed_load = false;\n  }\n\n  var NB_LOAD_WARNING = {'data': {'text/html':\n     \"<div style='background-color: #fdd'>\\n\"+\n     \"<p>\\n\"+\n     \"BokehJS does not appear to have successfully loaded. If loading BokehJS from CDN, this \\n\"+\n     \"may be due to a slow or bad network connection. Possible fixes:\\n\"+\n     \"</p>\\n\"+\n     \"<ul>\\n\"+\n     \"<li>re-rerun `output_notebook()` to attempt to load from CDN again, or</li>\\n\"+\n     \"<li>use INLINE resources instead, as so:</li>\\n\"+\n     \"</ul>\\n\"+\n     \"<code>\\n\"+\n     \"from bokeh.resources import INLINE\\n\"+\n     \"output_notebook(resources=INLINE)\\n\"+\n     \"</code>\\n\"+\n     \"</div>\"}};\n\n  function display_loaded() {\n    var el = document.getElementById(\"055df64d-af84-4ac8-90fa-ff0692435961\");\n    if (el != null) {\n      el.textContent = \"BokehJS is loading...\";\n    }\n    if (root.Bokeh !== undefined) {\n      if (el != null) {\n        el.textContent = \"BokehJS \" + root.Bokeh.version + \" successfully loaded.\";\n      }\n    } else if (Date.now() < root._bokeh_timeout) {\n      setTimeout(display_loaded, 100)\n    }\n  }\n\n\n  function run_callbacks() {\n    try {\n      root._bokeh_onload_callbacks.forEach(function(callback) { callback() });\n    }\n    finally {\n      delete root._bokeh_onload_callbacks\n    }\n    console.info(\"Bokeh: all callbacks have finished\");\n  }\n\n  function load_libs(js_urls, callback) {\n    root._bokeh_onload_callbacks.push(callback);\n    if (root._bokeh_is_loading > 0) {\n      console.log(\"Bokeh: BokehJS is being loaded, scheduling callback at\", now());\n      return null;\n    }\n    if (js_urls == null || js_urls.length === 0) {\n      run_callbacks();\n      return null;\n    }\n    console.log(\"Bokeh: BokehJS not loaded, scheduling load and callback at\", now());\n    root._bokeh_is_loading = js_urls.length;\n    for (var i = 0; i < js_urls.length; i++) {\n      var url = js_urls[i];\n      var s = document.createElement('script');\n      s.src = url;\n      s.async = false;\n      s.onreadystatechange = s.onload = function() {\n        root._bokeh_is_loading--;\n        if (root._bokeh_is_loading === 0) {\n          console.log(\"Bokeh: all BokehJS libraries loaded\");\n          run_callbacks()\n        }\n      };\n      s.onerror = function() {\n        console.warn(\"failed to load library \" + url);\n      };\n      console.log(\"Bokeh: injecting script tag for BokehJS library: \", url);\n      document.getElementsByTagName(\"head\")[0].appendChild(s);\n    }\n  };var element = document.getElementById(\"055df64d-af84-4ac8-90fa-ff0692435961\");\n  if (element == null) {\n    console.log(\"Bokeh: ERROR: autoload.js configured with elementid '055df64d-af84-4ac8-90fa-ff0692435961' but no matching script tag was found. \")\n    return false;\n  }\n\n  var js_urls = [\"https://cdn.pydata.org/bokeh/release/bokeh-0.12.10.min.js\", \"https://cdn.pydata.org/bokeh/release/bokeh-widgets-0.12.10.min.js\", \"https://cdn.pydata.org/bokeh/release/bokeh-tables-0.12.10.min.js\", \"https://cdn.pydata.org/bokeh/release/bokeh-gl-0.12.10.min.js\"];\n\n  var inline_js = [\n    function(Bokeh) {\n      Bokeh.set_log_level(\"info\");\n    },\n    \n    function(Bokeh) {\n      \n    },\n    function(Bokeh) {\n      console.log(\"Bokeh: injecting CSS: https://cdn.pydata.org/bokeh/release/bokeh-0.12.10.min.css\");\n      Bokeh.embed.inject_css(\"https://cdn.pydata.org/bokeh/release/bokeh-0.12.10.min.css\");\n      console.log(\"Bokeh: injecting CSS: https://cdn.pydata.org/bokeh/release/bokeh-widgets-0.12.10.min.css\");\n      Bokeh.embed.inject_css(\"https://cdn.pydata.org/bokeh/release/bokeh-widgets-0.12.10.min.css\");\n      console.log(\"Bokeh: injecting CSS: https://cdn.pydata.org/bokeh/release/bokeh-tables-0.12.10.min.css\");\n      Bokeh.embed.inject_css(\"https://cdn.pydata.org/bokeh/release/bokeh-tables-0.12.10.min.css\");\n    }\n  ];\n\n  function run_inline_js() {\n    \n    if ((root.Bokeh !== undefined) || (force === true)) {\n      for (var i = 0; i < inline_js.length; i++) {\n        inline_js[i].call(root, root.Bokeh);\n      }if (force === true) {\n        display_loaded();\n      }} else if (Date.now() < root._bokeh_timeout) {\n      setTimeout(run_inline_js, 100);\n    } else if (!root._bokeh_failed_load) {\n      console.log(\"Bokeh: BokehJS failed to load within specified timeout.\");\n      root._bokeh_failed_load = true;\n    } else if (force !== true) {\n      var cell = $(document.getElementById(\"055df64d-af84-4ac8-90fa-ff0692435961\")).parents('.cell').data().cell;\n      cell.output_area.append_execute_result(NB_LOAD_WARNING)\n    }\n\n  }\n\n  if (root._bokeh_is_loading === 0) {\n    console.log(\"Bokeh: BokehJS loaded, going straight to plotting\");\n    run_inline_js();\n  } else {\n    load_libs(js_urls, function() {\n      console.log(\"Bokeh: BokehJS plotting callback run at\", now());\n      run_inline_js();\n    });\n  }\n}(window));"
     },
     "metadata": {},
     "output_type": "display_data"
    }
   ],
   "source": [
    "output_notebook(INLINE)"
   ]
  },
  {
   "cell_type": "code",
   "execution_count": 3,
   "metadata": {
    "collapsed": true
   },
   "outputs": [],
   "source": [
    "residual = ['-pK1 + pCO3 + 2 * pH - pCO2',\n",
    "            '-pK2 + pCO3 + pH - pHCO3',\n",
    "            '-pKw + pH + pOH',\n",
    "            '-log(10 ** pCO2T) + log(10 ** pCO2 + 10 ** pHCO3 + 10 ** pCO3)']\n",
    "\n",
    "ind_vars = ['pH', 'pCO2T']\n",
    "dep_vars = ['pHCO3', 'pCO3', 'pCO2', 'pOH']\n",
    "parameters = {'pKw': -14, 'pK1': -16.681, 'pK2': -10.33}\n",
    "options = {'DISPLAY': False}\n",
    "\n",
    "system = tts(dep_vars, residual, indep_vars=ind_vars,\n",
    "             parameters=parameters)"
   ]
  },
  {
   "cell_type": "code",
   "execution_count": 4,
   "metadata": {
    "collapsed": true
   },
   "outputs": [],
   "source": [
    "n = 100\n",
    "pH = np.linspace(-14, 0, n)\n",
    "pco2t = -3\n",
    "ind_var = {'pH': pH, 'pCO2T': pco2t*np.ones(pH.shape)}\n",
    "\n",
    "guess = {var: np.ones(pH.shape) for var in dep_vars}\n",
    "\n",
    "solution, report = system.solve(guess, indep_var_val=ind_var,\n",
    "                                input_options=options)\n",
    "solution['pH'] = pH\n",
    "\n",
    "source = ColumnDataSource(data=solution)"
   ]
  },
  {
   "cell_type": "code",
   "execution_count": 5,
   "metadata": {
    "collapsed": true
   },
   "outputs": [],
   "source": [
    "plot = figure(plot_height=400, plot_width=600, title=\"carbonate speciation\", x_range=[-14, 0])\n",
    "colors = ['red', 'cyan', 'green', 'blue']\n",
    "for ind, var in enumerate(dep_vars):\n",
    "    plot.line('pH', var, source=source, line_color=colors[ind], line_width=3,\n",
    "              line_alpha=0.6)\n",
    "\n",
    "plot.xaxis.axis_label = 'log10 [H^+]'\n",
    "plot.yaxis.axis_label = 'log10 concentration'"
   ]
  },
  {
   "cell_type": "code",
   "execution_count": 6,
   "metadata": {
    "collapsed": true
   },
   "outputs": [],
   "source": [
    "def update_data(CO2T):\n",
    "\n",
    "    # Get the current slider values\n",
    "    ind_var_val = {'pH': pH, 'pCO2T': CO2T*np.ones(pH.shape)}\n",
    "    new_sol, report = system.solve(guess, indep_var_val=ind_var_val,\n",
    "                           input_options=options)\n",
    "    new_sol['pH'] = pH\n",
    "    source.data = new_sol\n",
    "    push_notebook()"
   ]
  },
  {
   "cell_type": "code",
   "execution_count": 7,
   "metadata": {},
   "outputs": [
    {
     "data": {
      "text/html": [
       "\n",
       "<div class=\"bk-root\">\n",
       "    <div class=\"bk-plotdiv\" id=\"a5c8e787-ffde-4b7a-a582-41c51b14aeec\"></div>\n",
       "</div>"
      ]
     },
     "metadata": {},
     "output_type": "display_data"
    },
    {
     "data": {
      "application/javascript": [
       "(function(root) {\n",
       "  function embed_document(root) {\n",
       "    var docs_json = {\"1ad89372-17a9-4ebc-879b-221b9e44731c\":{\"roots\":{\"references\":[{\"attributes\":{\"axis_label\":\"log10 [H^+]\",\"formatter\":{\"id\":\"23f9e5d0-6782-48ab-aa98-168c562c3233\",\"type\":\"BasicTickFormatter\"},\"plot\":{\"id\":\"ce7f46c6-0d4f-482d-9171-fa90221681bb\",\"subtype\":\"Figure\",\"type\":\"Plot\"},\"ticker\":{\"id\":\"f26ae45c-122d-4c70-a4a0-4dbcb3f79bec\",\"type\":\"BasicTicker\"}},\"id\":\"f1f8a592-589f-428b-a49f-2e9106687b2e\",\"type\":\"LinearAxis\"},{\"attributes\":{\"line_alpha\":{\"value\":0.6},\"line_color\":{\"value\":\"cyan\"},\"line_width\":{\"value\":3},\"x\":{\"field\":\"pH\"},\"y\":{\"field\":\"pCO3\"}},\"id\":\"8fe15790-f61d-4ff1-b421-b30ecb66521e\",\"type\":\"Line\"},{\"attributes\":{\"plot\":null,\"text\":\"carbonate speciation\"},\"id\":\"53db3752-68ac-48fa-bd51-4ea358aec904\",\"type\":\"Title\"},{\"attributes\":{},\"id\":\"f87b133a-98e2-418e-b0a5-4088ee7edb79\",\"type\":\"PanTool\"},{\"attributes\":{},\"id\":\"6d6d80bf-b9a1-4d47-87ca-18186be7fd9e\",\"type\":\"LinearScale\"},{\"attributes\":{\"line_alpha\":{\"value\":0.1},\"line_color\":{\"value\":\"#1f77b4\"},\"line_width\":{\"value\":3},\"x\":{\"field\":\"pH\"},\"y\":{\"field\":\"pCO3\"}},\"id\":\"e651470d-2912-469c-a725-a50783cb4e0b\",\"type\":\"Line\"},{\"attributes\":{\"callback\":null,\"column_names\":[\"pHCO3\",\"pCO3\",\"pCO2\",\"pOH\",\"pH\"],\"data\":{\"pCO2\":{\"__ndarray__\":\"aHUFI2CjLMAWlXbzlRIswLJqJ5HNgSvANf54rQfxKsD0lu49RWAqwHbgRpaHzynAHyCDjNA+KcByB5SqIq4owIV/uXKBHSjAKSBmvfGMJ8DIb745evwmwFfFpRwkbCbAroKrDfzbJcBlqMxkE0wlwEljHs+BvCTAWHFucWctJMAUin+b754jwG4xIA9UESPApV0ou+CEIsANnvmH9/khwMMLd2cTcSHAJ4/iSMnqIMD49JAAxWcgwGtX3Q+A0R/AU2UnouHcHsAEWMt+5/IdwNQIcZhkFB3AGWtzUJ9BHMAKi9uxQ3obwHG7Hhh0vRrA+G/yvfEJGsBmSDbNTl4ZwN2Hl6YbuRjA979nBAcZGMBQpsxt73wXwDZD8dLo4xbAHmivmzpNFsBYyQX/WbgVwETGfVbjJBXAPC19CJSSFMCAtQzcRQEUwOCH7RHscBPADDmsY5LhEsDhdR7wXVMSwMZahw6QxhHAee5B6Yo7EcBGnYyH17IQwET+XHosLRDAAhqjNudWD8ACPoxumF0OwB+0IbELcQ3Au93uyR6UDMA34QMzr8kLwOrSvWFAFAvAAZJMiZd1CsBIT5USae4JwHrshug0fgnA1rSmiV8jCcCZbt7sfdsIwML3Xaa4owjAUOmEyCh5CMB35XrPG1kIwOEUwM05QQjAQEh9qZIvCMB9R0fOmiIIwBC3kSYfGQjA5lr+9DUSCMDSvknbLw0IwD17z6aKCQjAtfKpauYGCMA9e27e/AQIwNRDabiaAwjAbf5Up5oCCMAGcdaS4QEIwEjvVNZbAQjAVIhMOPsACMBCy8xttQAIwAFbVgWDAAjAV8F+nV4ACMAAgeNSRAAIwMb4XFYxAAjAYCdroCMACMClvtK5GQAIwIxikpMSAAjATk7yaQ0ACMAihJuvCQAIwNnffP4GAAjALO/hDAUACMDslJGlAwAIwMIVHaICAAjA1+3D5gEACMCh/3tfAQAIwJXkzP0AAAjApbZDtwAACMCb9FSEAAAIwAnpjV8AAAjAdXv/RAAACMAdd9IxAAAIwMTB+SMAAAjArDD6GQAACMA=\",\"dtype\":\"float64\",\"shape\":[100]},\"pCO3\":{\"__ndarray__\":\"SHHarDAACMDs/CdoQwAIwEhgdFhdAAjARLtDQ4EACMAwK6P+sgAIwCpejdn3AAjAsWkHLFcBCMDyE9Qd2wEIwCsB87eRAgjAsJAuXI4DCMAQ3BjH6wQIwD0/P8zOBgjAikHfCWoJCMBJ5ezfAg0IwNDdvAL4EQjA9CKGBcoYCMDYklMnJiIIwDA9X2/zLgjA9PoImWFACMCECddF+FcIwE3NVT2jdwjAxOeMPLahCMD3i8+U4NgIwN5zzysIIAnAnpzsyQZ6CcDojr38TekJwHn9kamDbwrA8s4fkzQNC8C8G3nPuMELwHqJiBVViwzAef+42otnDcBEvclygVMOwCNJFZ9WTA/AH2MfarQnEMDwz0iQOq0QwErzMbLRNRHAqp60N8HAEcBchs9Xfk0SwMAJDGyl2xLAMPfP2vNqE8DsBSRrQ/sTwMBeyV2HjBTAZJZMbMseFcCvWYO1NLIVwAvFsJAERxbANd8vKJ3dFsB6FD+Dh3YXwO770zJ6EhjAIRGNEF+yGMCZKUZpVVcZwB1rVcesAhrAZIaAENS1GsCYjs8BOnIbwOkN8VUgORzA7PN8pmkLHcAG2eUncOkdwBUuo8/z0h7Au5j33CbHH8AK/qvlaWIgwI8jbnJH5SDALiNaWXJrIcB05Xn5PfQhwIp0bVcUfyLAnAS/bHkLI8Cnx1NUCpkjwMimyEh6JyTA+BLG2o62JMAuL7syHEYlwIXh/sMB1iXAn8JXkydmJsD7J6sOfPYmwF0djGPyhifAP0+pPYEXKMAi7+vWIagowOzRLUbPOCnAa/sN/YXJKcBiT9BoQ1oqwI72FK0F6yrAXlOBcct7K8CExjy9kwwswLJnfdxdnSzAkjZjTSkuLcCfXx+y9b4twNWL8cbCTy7AAsrrWpDgLsCwWrhKXnEvwG16aT4WATDA9j1nb31JMMBMVK6x5JEwwAPmcABM2jDApOI2WLMiMcB7Bn+2GmsxwLhEehmCszHAlkDaf+n7McD0ia3oUEQywB/KRVO4jDLACh4lvx/VMsAcn/Arhx0zwBCqZpnuZTPAitlXB1auM8A=\",\"dtype\":\"float64\",\"shape\":[100]},\"pH\":{\"__ndarray__\":\"AAAAAAAALMBi3s6QmLcrwMW8nSExbyvAJ5tssskmK8CJeTtDYt4qwOtXCtT6lSrATjbZZJNNKsCwFKj1KwUqwBLzdobEvCnAdNFFF110KcDXrxSo9SspwDmO4ziO4yjAm2yyySabKMD+SoFav1IowGApUOtXCijAwgcffPDBJ8Ak5u0MiXknwIbEvJ0hMSfA6aKLLrroJsBLgVq/UqAmwK1fKVDrVybAED744IMPJsByHMdxHMclwNT6lQK1fiXANtlkk002JcCZtzMk5u0kwPuVArV+pSTAXXTRRRddJMDAUqDWrxQkwCIxb2dIzCPAhA8++OCDI8Dm7QyJeTsjwEjM2xkS8yLAq6qqqqqqIsANiXk7Q2IiwHBnSMzbGSLA0kUXXXTRIcA0JObtDIkhwJYCtX6lQCHA+OCDDz74IMBav1Kg1q8gwL2dITFvZyDAH3zwwQcfIMADtX6lQK0fwMdxHMdxHB/AjC666KKLHsBQ61cK1PodwBWo9SsFah3A2mSTTTbZHMCeITFvZ0gcwGPezpCYtxvAJ5tssskmG8DsVwrU+pUawLAUqPUrBRrAddFFF110GcA5juM4juMYwP5KgVq/UhjAwgcffPDBF8CGxLydITEXwEyBWr9SoBbAED744IMPFsDU+pUCtX4VwJi3MyTm7RTAXnTRRRddFMAiMW9nSMwTwObtDIl5OxPArKqqqqqqEsBwZ0jM2xkSwDQk5u0MiRHA+OCDDz74EMC+nSExb2cQwAS1fqVArQ/AjC666KKLDsAUqPUrBWoNwKAhMW9nSAzAKJtssskmC8CwFKj1KwUKwDiO4ziO4wjAxAcffPDBB8BMgVq/UqAGwNT6lQK1fgXAYHTRRRddBMDo7QyJeTsDwHBnSMzbGQLA+OCDDz74AMAItX6lQK3/vxio9SsFav2/KJtssskm+784juM4juP4v1CBWr9SoPa/YHTRRRdd9L9wZ0jM2xnyvwC1fqVAre+/MJtssskm679QgVq/UqDmv3BnSMzbGeK/QJtssskm27+AZ0jM2xnSv4BnSMzbGcK/AAAAAAAAAAA=\",\"dtype\":\"float64\",\"shape\":[100]},\"pHCO3\":{\"__ndarray__\":\"UoBO0SyuGsDoApNQZx0awFzxVmqljBnAnltcgej7GMBY0KmAMmsYwJmmvA+G2hfAImmX2uZJF8AHexv1WbkWwGiuyGPmKBbA7jKE15WYFcBkFZeudQgVwL4DyFKYeBTAqcE1ExfpE8BOUNqfFFoTwFYJ4FLAyxLArGjidVo+EsBi3WaoObIRwFJvCm7RJxHA+gp9pLmfEMAGz4EcthoQwF3bvXN5Mw/AYG8wtu47DsAbja5Re1ENwIru6SsFdwzA0pBCDWavC8Co/E6DD/0KwMHkXnOnYQrAwi8ooLrdCcAY9rwfoXAJwF7dB6mfGAnA5cxzsTjTCMA4BMCMkJ0IwJ8JR/zHdAjARgCsdDxWCMBvUzoEqz8IwK8TSIs7LwjA+OOI2XwjCMDjLPpcWRsIwDWtrsgJFgjAnQFy6QgTCMCcmFVNChIIwM/D23X0EgjAn6wd1t4VCMDArMarExsIwAD9XKUVIwjA3qqWF6kuCMDwjvAQ4D4IwGLXVbMnVQjAUnsDslNzCMDKJbGmopsIwF0iC6az0AjAcdKce2QVCcBjXHahkmwJwI7U9IzB2AnAHRpIcbZbCsDaXVW3JfYKwIKBC0qPpwvAVtDvp1duDMCREOzHE0gNwC4gMD7sMQ7ANJgbHfooD8BqDWtwRRUQwFro700jmhDARMUwmh4iEcAeCPiKcawRwCSDf5WCOBLASRgY29zFEsB7DaCsKFQTwOwuxfAk4xPA5K0UsaFyFMBiNVnJewIVwOrcuJSZkhXAcv2QaugiFsD7+bO+WrMWwFZ81b7mQxfAGIwzToXUF8DL8FVHMWUYwOb7fPHm9RjATHLzm6OGGcBcFQhVZRcawHsUJ7UqqBrAAm+QuPI4G8DgfaajvMkbwBCT6O6HWhzALcx6OFTrHMBRqrE5IXwdwGibhL/uDB7ATmYZpbydHsBqfNPPii4fwA+AeyxZvx/Aq5eY1hMoIMC7vfcje3AgwJYYvXriuCDAt+5L2EkBIcDTX8E6sUkhwIy+wKAYkiHAxEROCYDaIcBMJbRz5yIiwJQZb99OayLA7FYgTLazIsA=\",\"dtype\":\"float64\",\"shape\":[100]},\"pOH\":{\"__ndarray__\":\"AAAAAAAAAACAZ0jM2xnCv2BnSMzbGdK/IJtssskm279wZ0jM2xniv1CBWr9SoOa/IJtssskm678AtX6lQK3vv3BnSMzbGfK/YHTRRRdd9L9IgVq/UqD2vziO4ziO4/i/KJtssskm+78QqPUrBWr9vwC1fqVArf+/+OCDDz74AMBwZ0jM2xkCwOjtDIl5OwPAXHTRRRddBMDU+pUCtX4FwEyBWr9SoAbAwAcffPDBB8A4juM4juMIwLAUqPUrBQrAKJtssskmC8CcITFvZ0gMwBSo9SsFag3AjC666KKLDsAAtX6lQK0PwLydITFvZxDA+OCDDz74EMA0JObtDIkRwHBnSMzbGRLAqqqqqqqqEsDm7QyJeTsTwCAxb2dIzBPAXHTRRRddFMCYtzMk5u0UwNT6lQK1fhXAED744IMPFsBMgVq/UqAWwIbEvJ0hMRfAwgcffPDBF8D9SoFav1IYwDmO4ziO4xjAdNFFF110GcCwFKj1KwUawOtXCtT6lRrAJptssskmG8Bi3s6QmLcbwJ0hMW9nSBzA2WSTTTbZHMAUqPUrBWodwFDrVwrU+h3Aiy666KKLHsDHcRzHcRwfwAK1fqVArR/AH3zwwQcfIMC9nSExb2cgwFq/UqDWryDA+OCDDz74IMCWArV+pUAhwDQk5u0MiSHA0UUXXXTRIcBvZ0jM2xkiwA2JeTtDYiLAqqqqqqqqIsBIzNsZEvMiwObtDIl5OyPAhA8++OCDI8AhMW9nSMwjwL9SoNavFCTAXXTRRRddJMD7lQK1fqUkwJi3MyTm7STANtlkk002JcDU+pUCtX4lwHIcx3EcxyXADz744IMPJsCtXylQ61cmwEuBWr9SoCbA6KKLLrroJsCGxLydITEnwCTm7QyJeSfAwgcffPDBJ8BfKVDrVwoowP1KgVq/UijAm2yyySabKMA5juM4juMowNavFKj1KynAdNFFF110KcAS83aGxLwpwLAUqPUrBSrATTbZZJNNKsDrVwrU+pUqwIl5O0Ni3irAJptssskmK8DEvJ0hMW8rwGLezpCYtyvAAAAAAAAALMA=\",\"dtype\":\"float64\",\"shape\":[100]}}},\"id\":\"8e5cd528-7b20-453b-a6d7-f3f2bd48ff05\",\"type\":\"ColumnDataSource\"},{\"attributes\":{\"bottom_units\":\"screen\",\"fill_alpha\":{\"value\":0.5},\"fill_color\":{\"value\":\"lightgrey\"},\"left_units\":\"screen\",\"level\":\"overlay\",\"line_alpha\":{\"value\":1.0},\"line_color\":{\"value\":\"black\"},\"line_dash\":[4,4],\"line_width\":{\"value\":2},\"plot\":null,\"render_mode\":\"css\",\"right_units\":\"screen\",\"top_units\":\"screen\"},\"id\":\"2506d1dc-5412-4664-a453-77d6f8b7b87a\",\"type\":\"BoxAnnotation\"},{\"attributes\":{\"below\":[{\"id\":\"f1f8a592-589f-428b-a49f-2e9106687b2e\",\"type\":\"LinearAxis\"}],\"left\":[{\"id\":\"6c40a861-41f9-4db8-97cf-257aab6f1510\",\"type\":\"LinearAxis\"}],\"plot_height\":400,\"renderers\":[{\"id\":\"f1f8a592-589f-428b-a49f-2e9106687b2e\",\"type\":\"LinearAxis\"},{\"id\":\"a45419ee-bc78-43f1-aba7-1057ec69903c\",\"type\":\"Grid\"},{\"id\":\"6c40a861-41f9-4db8-97cf-257aab6f1510\",\"type\":\"LinearAxis\"},{\"id\":\"ec0910f4-b9b9-4c1e-891b-5a7d482baa5d\",\"type\":\"Grid\"},{\"id\":\"2506d1dc-5412-4664-a453-77d6f8b7b87a\",\"type\":\"BoxAnnotation\"},{\"id\":\"ed88795c-ceb2-43a2-b713-66efde05d4fd\",\"type\":\"GlyphRenderer\"},{\"id\":\"ede80ee7-1211-4d69-bc66-973cc4f0edc8\",\"type\":\"GlyphRenderer\"},{\"id\":\"53dd16b9-4b61-4c2a-88f9-62b38a8ec709\",\"type\":\"GlyphRenderer\"},{\"id\":\"93718389-9f64-424c-a65c-39ba2f18a750\",\"type\":\"GlyphRenderer\"}],\"title\":{\"id\":\"53db3752-68ac-48fa-bd51-4ea358aec904\",\"type\":\"Title\"},\"toolbar\":{\"id\":\"fae29eb9-9255-4e65-8200-9722c821406f\",\"type\":\"Toolbar\"},\"x_range\":{\"id\":\"b9eb84a3-be85-4e86-9514-547edef796a7\",\"type\":\"Range1d\"},\"x_scale\":{\"id\":\"a4bf629e-284f-41a1-ad18-4b937505ed49\",\"type\":\"LinearScale\"},\"y_range\":{\"id\":\"601e348c-f312-45cb-afab-3ef62e6bf347\",\"type\":\"DataRange1d\"},\"y_scale\":{\"id\":\"6d6d80bf-b9a1-4d47-87ca-18186be7fd9e\",\"type\":\"LinearScale\"}},\"id\":\"ce7f46c6-0d4f-482d-9171-fa90221681bb\",\"subtype\":\"Figure\",\"type\":\"Plot\"},{\"attributes\":{\"plot\":{\"id\":\"ce7f46c6-0d4f-482d-9171-fa90221681bb\",\"subtype\":\"Figure\",\"type\":\"Plot\"},\"ticker\":{\"id\":\"f26ae45c-122d-4c70-a4a0-4dbcb3f79bec\",\"type\":\"BasicTicker\"}},\"id\":\"a45419ee-bc78-43f1-aba7-1057ec69903c\",\"type\":\"Grid\"},{\"attributes\":{\"active_drag\":\"auto\",\"active_inspect\":\"auto\",\"active_scroll\":\"auto\",\"active_tap\":\"auto\",\"tools\":[{\"id\":\"f87b133a-98e2-418e-b0a5-4088ee7edb79\",\"type\":\"PanTool\"},{\"id\":\"6000c802-db7e-4ae8-a371-71ac72757d54\",\"type\":\"WheelZoomTool\"},{\"id\":\"8910118e-056b-497c-97b0-fe786580eb88\",\"type\":\"BoxZoomTool\"},{\"id\":\"14058bc5-82a9-4a69-b7a7-54329e61e121\",\"type\":\"SaveTool\"},{\"id\":\"250817ba-844a-4156-8b44-c150b31965b5\",\"type\":\"ResetTool\"},{\"id\":\"fab03f51-4cb2-4996-8991-168215e815e2\",\"type\":\"HelpTool\"}]},\"id\":\"fae29eb9-9255-4e65-8200-9722c821406f\",\"type\":\"Toolbar\"},{\"attributes\":{\"source\":{\"id\":\"8e5cd528-7b20-453b-a6d7-f3f2bd48ff05\",\"type\":\"ColumnDataSource\"}},\"id\":\"c63c2881-3f89-48a3-975d-2547143eebf9\",\"type\":\"CDSView\"},{\"attributes\":{\"dimension\":1,\"plot\":{\"id\":\"ce7f46c6-0d4f-482d-9171-fa90221681bb\",\"subtype\":\"Figure\",\"type\":\"Plot\"},\"ticker\":{\"id\":\"26e03e8c-95b3-406d-9df7-222d63c97703\",\"type\":\"BasicTicker\"}},\"id\":\"ec0910f4-b9b9-4c1e-891b-5a7d482baa5d\",\"type\":\"Grid\"},{\"attributes\":{\"callback\":null,\"end\":0,\"start\":-14},\"id\":\"b9eb84a3-be85-4e86-9514-547edef796a7\",\"type\":\"Range1d\"},{\"attributes\":{},\"id\":\"a4bf629e-284f-41a1-ad18-4b937505ed49\",\"type\":\"LinearScale\"},{\"attributes\":{\"source\":{\"id\":\"8e5cd528-7b20-453b-a6d7-f3f2bd48ff05\",\"type\":\"ColumnDataSource\"}},\"id\":\"4fb716ed-5397-4732-954d-a752c01047a8\",\"type\":\"CDSView\"},{\"attributes\":{\"line_alpha\":{\"value\":0.1},\"line_color\":{\"value\":\"#1f77b4\"},\"line_width\":{\"value\":3},\"x\":{\"field\":\"pH\"},\"y\":{\"field\":\"pHCO3\"}},\"id\":\"9006108a-41c0-4f85-936e-1c10d781b22c\",\"type\":\"Line\"},{\"attributes\":{},\"id\":\"f26ae45c-122d-4c70-a4a0-4dbcb3f79bec\",\"type\":\"BasicTicker\"},{\"attributes\":{},\"id\":\"fab03f51-4cb2-4996-8991-168215e815e2\",\"type\":\"HelpTool\"},{\"attributes\":{},\"id\":\"6000c802-db7e-4ae8-a371-71ac72757d54\",\"type\":\"WheelZoomTool\"},{\"attributes\":{\"data_source\":{\"id\":\"8e5cd528-7b20-453b-a6d7-f3f2bd48ff05\",\"type\":\"ColumnDataSource\"},\"glyph\":{\"id\":\"24fa0c04-3ef9-4b9b-9981-39c40e33957f\",\"type\":\"Line\"},\"hover_glyph\":null,\"muted_glyph\":null,\"nonselection_glyph\":{\"id\":\"9006108a-41c0-4f85-936e-1c10d781b22c\",\"type\":\"Line\"},\"selection_glyph\":null,\"view\":{\"id\":\"c63c2881-3f89-48a3-975d-2547143eebf9\",\"type\":\"CDSView\"}},\"id\":\"ed88795c-ceb2-43a2-b713-66efde05d4fd\",\"type\":\"GlyphRenderer\"},{\"attributes\":{\"axis_label\":\"log10 concentration\",\"formatter\":{\"id\":\"81f1ea6f-9258-4abb-92ff-9eff094376ea\",\"type\":\"BasicTickFormatter\"},\"plot\":{\"id\":\"ce7f46c6-0d4f-482d-9171-fa90221681bb\",\"subtype\":\"Figure\",\"type\":\"Plot\"},\"ticker\":{\"id\":\"26e03e8c-95b3-406d-9df7-222d63c97703\",\"type\":\"BasicTicker\"}},\"id\":\"6c40a861-41f9-4db8-97cf-257aab6f1510\",\"type\":\"LinearAxis\"},{\"attributes\":{},\"id\":\"250817ba-844a-4156-8b44-c150b31965b5\",\"type\":\"ResetTool\"},{\"attributes\":{},\"id\":\"14058bc5-82a9-4a69-b7a7-54329e61e121\",\"type\":\"SaveTool\"},{\"attributes\":{},\"id\":\"81f1ea6f-9258-4abb-92ff-9eff094376ea\",\"type\":\"BasicTickFormatter\"},{\"attributes\":{\"data_source\":{\"id\":\"8e5cd528-7b20-453b-a6d7-f3f2bd48ff05\",\"type\":\"ColumnDataSource\"},\"glyph\":{\"id\":\"2739debd-ee4d-4406-be4b-1e1275061448\",\"type\":\"Line\"},\"hover_glyph\":null,\"muted_glyph\":null,\"nonselection_glyph\":{\"id\":\"0790c1fc-7712-44da-96c4-4b423296b52b\",\"type\":\"Line\"},\"selection_glyph\":null,\"view\":{\"id\":\"2725442d-0616-47f3-969b-da8114f6c334\",\"type\":\"CDSView\"}},\"id\":\"93718389-9f64-424c-a65c-39ba2f18a750\",\"type\":\"GlyphRenderer\"},{\"attributes\":{},\"id\":\"23f9e5d0-6782-48ab-aa98-168c562c3233\",\"type\":\"BasicTickFormatter\"},{\"attributes\":{\"data_source\":{\"id\":\"8e5cd528-7b20-453b-a6d7-f3f2bd48ff05\",\"type\":\"ColumnDataSource\"},\"glyph\":{\"id\":\"8fe15790-f61d-4ff1-b421-b30ecb66521e\",\"type\":\"Line\"},\"hover_glyph\":null,\"muted_glyph\":null,\"nonselection_glyph\":{\"id\":\"e651470d-2912-469c-a725-a50783cb4e0b\",\"type\":\"Line\"},\"selection_glyph\":null,\"view\":{\"id\":\"4fb716ed-5397-4732-954d-a752c01047a8\",\"type\":\"CDSView\"}},\"id\":\"ede80ee7-1211-4d69-bc66-973cc4f0edc8\",\"type\":\"GlyphRenderer\"},{\"attributes\":{\"overlay\":{\"id\":\"2506d1dc-5412-4664-a453-77d6f8b7b87a\",\"type\":\"BoxAnnotation\"}},\"id\":\"8910118e-056b-497c-97b0-fe786580eb88\",\"type\":\"BoxZoomTool\"},{\"attributes\":{\"source\":{\"id\":\"8e5cd528-7b20-453b-a6d7-f3f2bd48ff05\",\"type\":\"ColumnDataSource\"}},\"id\":\"2725442d-0616-47f3-969b-da8114f6c334\",\"type\":\"CDSView\"},{\"attributes\":{\"line_alpha\":{\"value\":0.6},\"line_color\":{\"value\":\"green\"},\"line_width\":{\"value\":3},\"x\":{\"field\":\"pH\"},\"y\":{\"field\":\"pCO2\"}},\"id\":\"64f668bc-e45d-4eb2-9fb9-d3616f88cf16\",\"type\":\"Line\"},{\"attributes\":{},\"id\":\"26e03e8c-95b3-406d-9df7-222d63c97703\",\"type\":\"BasicTicker\"},{\"attributes\":{\"line_alpha\":{\"value\":0.6},\"line_color\":{\"value\":\"red\"},\"line_width\":{\"value\":3},\"x\":{\"field\":\"pH\"},\"y\":{\"field\":\"pHCO3\"}},\"id\":\"24fa0c04-3ef9-4b9b-9981-39c40e33957f\",\"type\":\"Line\"},{\"attributes\":{\"line_alpha\":{\"value\":0.1},\"line_color\":{\"value\":\"#1f77b4\"},\"line_width\":{\"value\":3},\"x\":{\"field\":\"pH\"},\"y\":{\"field\":\"pCO2\"}},\"id\":\"07a25f33-44ba-4514-ba96-ac2fa042fc6f\",\"type\":\"Line\"},{\"attributes\":{\"data_source\":{\"id\":\"8e5cd528-7b20-453b-a6d7-f3f2bd48ff05\",\"type\":\"ColumnDataSource\"},\"glyph\":{\"id\":\"64f668bc-e45d-4eb2-9fb9-d3616f88cf16\",\"type\":\"Line\"},\"hover_glyph\":null,\"muted_glyph\":null,\"nonselection_glyph\":{\"id\":\"07a25f33-44ba-4514-ba96-ac2fa042fc6f\",\"type\":\"Line\"},\"selection_glyph\":null,\"view\":{\"id\":\"079504cc-3e43-4f9f-8d32-41b033eb1692\",\"type\":\"CDSView\"}},\"id\":\"53dd16b9-4b61-4c2a-88f9-62b38a8ec709\",\"type\":\"GlyphRenderer\"},{\"attributes\":{\"callback\":null},\"id\":\"601e348c-f312-45cb-afab-3ef62e6bf347\",\"type\":\"DataRange1d\"},{\"attributes\":{\"source\":{\"id\":\"8e5cd528-7b20-453b-a6d7-f3f2bd48ff05\",\"type\":\"ColumnDataSource\"}},\"id\":\"079504cc-3e43-4f9f-8d32-41b033eb1692\",\"type\":\"CDSView\"},{\"attributes\":{\"line_alpha\":{\"value\":0.6},\"line_color\":{\"value\":\"blue\"},\"line_width\":{\"value\":3},\"x\":{\"field\":\"pH\"},\"y\":{\"field\":\"pOH\"}},\"id\":\"2739debd-ee4d-4406-be4b-1e1275061448\",\"type\":\"Line\"},{\"attributes\":{\"line_alpha\":{\"value\":0.1},\"line_color\":{\"value\":\"#1f77b4\"},\"line_width\":{\"value\":3},\"x\":{\"field\":\"pH\"},\"y\":{\"field\":\"pOH\"}},\"id\":\"0790c1fc-7712-44da-96c4-4b423296b52b\",\"type\":\"Line\"}],\"root_ids\":[\"ce7f46c6-0d4f-482d-9171-fa90221681bb\"]},\"title\":\"Bokeh Application\",\"version\":\"0.12.10\"}};\n",
       "    var render_items = [{\"docid\":\"1ad89372-17a9-4ebc-879b-221b9e44731c\",\"elementid\":\"a5c8e787-ffde-4b7a-a582-41c51b14aeec\",\"modelid\":\"ce7f46c6-0d4f-482d-9171-fa90221681bb\",\"notebook_comms_target\":\"e6e23aac-b0ca-4ca6-bf5c-9b9e1830c8dd\"}];\n",
       "\n",
       "    root.Bokeh.embed.embed_items(docs_json, render_items);\n",
       "  }\n",
       "\n",
       "  if (root.Bokeh !== undefined) {\n",
       "    embed_document(root);\n",
       "  } else {\n",
       "    var attempts = 0;\n",
       "    var timer = setInterval(function(root) {\n",
       "      if (root.Bokeh !== undefined) {\n",
       "        embed_document(root);\n",
       "        clearInterval(timer);\n",
       "      }\n",
       "      attempts++;\n",
       "      if (attempts > 100) {\n",
       "        console.log(\"Bokeh: ERROR: Unable to embed document because BokehJS library is missing\")\n",
       "        clearInterval(timer);\n",
       "      }\n",
       "    }, 10, root)\n",
       "  }\n",
       "})(window);"
      ],
      "application/vnd.bokehjs_exec.v0+json": ""
     },
     "metadata": {
      "application/vnd.bokehjs_exec.v0+json": {
       "id": "ce7f46c6-0d4f-482d-9171-fa90221681bb"
      }
     },
     "output_type": "display_data"
    },
    {
     "data": {
      "text/html": [
       "<p><code>&lt;Bokeh Notebook handle for <strong>In[7]</strong>&gt;</code></p>"
      ],
      "text/plain": [
       "<bokeh.io.notebook.CommsHandle at 0x150f9d8320>"
      ]
     },
     "execution_count": 7,
     "metadata": {},
     "output_type": "execute_result"
    }
   ],
   "source": [
    "# show the plot\n",
    "show(plot, notebook_handle=True)"
   ]
  },
  {
   "cell_type": "code",
   "execution_count": 8,
   "metadata": {},
   "outputs": [
    {
     "data": {
      "application/vnd.jupyter.widget-view+json": {
       "model_id": "0c90e9b8a58648978a3a8e0a64543d1b",
       "version_major": 2,
       "version_minor": 0
      },
      "text/plain": [
       "A Jupyter Widget"
      ]
     },
     "metadata": {},
     "output_type": "display_data"
    },
    {
     "data": {
      "text/plain": [
       "<function __main__.update_data>"
      ]
     },
     "execution_count": 8,
     "metadata": {},
     "output_type": "execute_result"
    }
   ],
   "source": [
    "interact(update_data, CO2T = (-5, 5))"
   ]
  },
  {
   "cell_type": "code",
   "execution_count": null,
   "metadata": {
    "collapsed": true
   },
   "outputs": [],
   "source": []
  }
 ],
 "metadata": {
  "kernelspec": {
   "display_name": "Python 3",
   "language": "python",
   "name": "python3"
  },
  "language_info": {
   "codemirror_mode": {
    "name": "ipython",
    "version": 3
   },
   "file_extension": ".py",
   "mimetype": "text/x-python",
   "name": "python",
   "nbconvert_exporter": "python",
   "pygments_lexer": "ipython3",
   "version": "3.6.3"
  }
 },
 "nbformat": 4,
 "nbformat_minor": 2
}
