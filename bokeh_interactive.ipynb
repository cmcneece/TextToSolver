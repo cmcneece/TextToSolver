{
 "cells": [
  {
   "cell_type": "code",
   "execution_count": 1,
   "metadata": {},
   "outputs": [],
   "source": [
    "import sys\n",
    "sys.path.append(\"..\")\n",
    "from TextToSolver import TextToSolver as tts\n",
    "import numpy as np\n",
    "\n",
    "from bokeh.io import curdoc, output_notebook, push_notebook\n",
    "from bokeh.layouts import row, widgetbox\n",
    "from bokeh.models import ColumnDataSource\n",
    "from bokeh.models.widgets import Slider, TextInput\n",
    "from bokeh.plotting import *\n",
    "from ipywidgets import interact"
   ]
  },
  {
   "cell_type": "code",
   "execution_count": 2,
   "metadata": {},
   "outputs": [
    {
     "data": {
      "text/html": [
       "\n",
       "    <div class=\"bk-root\">\n",
       "        <a href=\"https://bokeh.pydata.org\" target=\"_blank\" class=\"bk-logo bk-logo-small bk-logo-notebook\"></a>\n",
       "        <span id=\"00eda8b5-1c23-4ea4-8872-f792e9e2050d\">Loading BokehJS ...</span>\n",
       "    </div>"
      ]
     },
     "metadata": {},
     "output_type": "display_data"
    },
    {
     "data": {
      "application/javascript": [
       "\n",
       "(function(root) {\n",
       "  function now() {\n",
       "    return new Date();\n",
       "  }\n",
       "\n",
       "  var force = true;\n",
       "\n",
       "  if (typeof (root._bokeh_onload_callbacks) === \"undefined\" || force === true) {\n",
       "    root._bokeh_onload_callbacks = [];\n",
       "    root._bokeh_is_loading = undefined;\n",
       "  }\n",
       "\n",
       "  var JS_MIME_TYPE = 'application/javascript';\n",
       "  var HTML_MIME_TYPE = 'text/html';\n",
       "  var EXEC_MIME_TYPE = 'application/vnd.bokehjs_exec.v0+json';\n",
       "  var CLASS_NAME = 'output_bokeh rendered_html';\n",
       "\n",
       "  /**\n",
       "   * Render data to the DOM node\n",
       "   */\n",
       "  function render(props, node) {\n",
       "    var script = document.createElement(\"script\");\n",
       "    node.appendChild(script);\n",
       "  }\n",
       "\n",
       "  /**\n",
       "   * Handle when an output is cleared or removed\n",
       "   */\n",
       "  function handleClearOutput(event, handle) {\n",
       "    var cell = handle.cell;\n",
       "\n",
       "    var id = cell.output_area._bokeh_element_id;\n",
       "    var server_id = cell.output_area._bokeh_server_id;\n",
       "    // Clean up Bokeh references\n",
       "    if (id !== undefined) {\n",
       "      Bokeh.index[id].model.document.clear();\n",
       "      delete Bokeh.index[id];\n",
       "    }\n",
       "\n",
       "    if (server_id !== undefined) {\n",
       "      // Clean up Bokeh references\n",
       "      var cmd = \"from bokeh.io.state import curstate; print(curstate().uuid_to_server['\" + server_id + \"'].get_sessions()[0].document.roots[0]._id)\";\n",
       "      cell.notebook.kernel.execute(cmd, {\n",
       "        iopub: {\n",
       "          output: function(msg) {\n",
       "            var element_id = msg.content.text.trim();\n",
       "            Bokeh.index[element_id].model.document.clear();\n",
       "            delete Bokeh.index[element_id];\n",
       "          }\n",
       "        }\n",
       "      });\n",
       "      // Destroy server and session\n",
       "      var cmd = \"import bokeh.io.notebook as ion; ion.destroy_server('\" + server_id + \"')\";\n",
       "      cell.notebook.kernel.execute(cmd);\n",
       "    }\n",
       "  }\n",
       "\n",
       "  /**\n",
       "   * Handle when a new output is added\n",
       "   */\n",
       "  function handleAddOutput(event, handle) {\n",
       "    var output_area = handle.output_area;\n",
       "    var output = handle.output;\n",
       "\n",
       "    // limit handleAddOutput to display_data with EXEC_MIME_TYPE content only\n",
       "    if ((output.output_type != \"display_data\") || (!output.data.hasOwnProperty(EXEC_MIME_TYPE))) {\n",
       "      return\n",
       "    }\n",
       "\n",
       "    var toinsert = output_area.element.find(`.${CLASS_NAME.split(' ')[0]}`);\n",
       "\n",
       "    if (output.metadata[EXEC_MIME_TYPE][\"id\"] !== undefined) {\n",
       "      toinsert[0].firstChild.textContent = output.data[JS_MIME_TYPE];\n",
       "      // store reference to embed id on output_area\n",
       "      output_area._bokeh_element_id = output.metadata[EXEC_MIME_TYPE][\"id\"];\n",
       "    }\n",
       "    if (output.metadata[EXEC_MIME_TYPE][\"server_id\"] !== undefined) {\n",
       "      var bk_div = document.createElement(\"div\");\n",
       "      bk_div.innerHTML = output.data[HTML_MIME_TYPE];\n",
       "      var script_attrs = bk_div.children[0].attributes;\n",
       "      for (var i = 0; i < script_attrs.length; i++) {\n",
       "        toinsert[0].firstChild.setAttribute(script_attrs[i].name, script_attrs[i].value);\n",
       "      }\n",
       "      // store reference to server id on output_area\n",
       "      output_area._bokeh_server_id = output.metadata[EXEC_MIME_TYPE][\"server_id\"];\n",
       "    }\n",
       "  }\n",
       "\n",
       "  function register_renderer(events, OutputArea) {\n",
       "\n",
       "    function append_mime(data, metadata, element) {\n",
       "      // create a DOM node to render to\n",
       "      var toinsert = this.create_output_subarea(\n",
       "        metadata,\n",
       "        CLASS_NAME,\n",
       "        EXEC_MIME_TYPE\n",
       "      );\n",
       "      this.keyboard_manager.register_events(toinsert);\n",
       "      // Render to node\n",
       "      var props = {data: data, metadata: metadata[EXEC_MIME_TYPE]};\n",
       "      render(props, toinsert[0]);\n",
       "      element.append(toinsert);\n",
       "      return toinsert\n",
       "    }\n",
       "\n",
       "    /* Handle when an output is cleared or removed */\n",
       "    events.on('clear_output.CodeCell', handleClearOutput);\n",
       "    events.on('delete.Cell', handleClearOutput);\n",
       "\n",
       "    /* Handle when a new output is added */\n",
       "    events.on('output_added.OutputArea', handleAddOutput);\n",
       "\n",
       "    /**\n",
       "     * Register the mime type and append_mime function with output_area\n",
       "     */\n",
       "    OutputArea.prototype.register_mime_type(EXEC_MIME_TYPE, append_mime, {\n",
       "      /* Is output safe? */\n",
       "      safe: true,\n",
       "      /* Index of renderer in `output_area.display_order` */\n",
       "      index: 0\n",
       "    });\n",
       "  }\n",
       "\n",
       "  // register the mime type if in Jupyter Notebook environment and previously unregistered\n",
       "  if (root.Jupyter !== undefined) {\n",
       "    var events = require('base/js/events');\n",
       "    var OutputArea = require('notebook/js/outputarea').OutputArea;\n",
       "\n",
       "    if (OutputArea.prototype.mime_types().indexOf(EXEC_MIME_TYPE) == -1) {\n",
       "      register_renderer(events, OutputArea);\n",
       "    }\n",
       "  }\n",
       "\n",
       "  \n",
       "  if (typeof (root._bokeh_timeout) === \"undefined\" || force === true) {\n",
       "    root._bokeh_timeout = Date.now() + 5000;\n",
       "    root._bokeh_failed_load = false;\n",
       "  }\n",
       "\n",
       "  var NB_LOAD_WARNING = {'data': {'text/html':\n",
       "     \"<div style='background-color: #fdd'>\\n\"+\n",
       "     \"<p>\\n\"+\n",
       "     \"BokehJS does not appear to have successfully loaded. If loading BokehJS from CDN, this \\n\"+\n",
       "     \"may be due to a slow or bad network connection. Possible fixes:\\n\"+\n",
       "     \"</p>\\n\"+\n",
       "     \"<ul>\\n\"+\n",
       "     \"<li>re-rerun `output_notebook()` to attempt to load from CDN again, or</li>\\n\"+\n",
       "     \"<li>use INLINE resources instead, as so:</li>\\n\"+\n",
       "     \"</ul>\\n\"+\n",
       "     \"<code>\\n\"+\n",
       "     \"from bokeh.resources import INLINE\\n\"+\n",
       "     \"output_notebook(resources=INLINE)\\n\"+\n",
       "     \"</code>\\n\"+\n",
       "     \"</div>\"}};\n",
       "\n",
       "  function display_loaded() {\n",
       "    var el = document.getElementById(\"00eda8b5-1c23-4ea4-8872-f792e9e2050d\");\n",
       "    if (el != null) {\n",
       "      el.textContent = \"BokehJS is loading...\";\n",
       "    }\n",
       "    if (root.Bokeh !== undefined) {\n",
       "      if (el != null) {\n",
       "        el.textContent = \"BokehJS \" + root.Bokeh.version + \" successfully loaded.\";\n",
       "      }\n",
       "    } else if (Date.now() < root._bokeh_timeout) {\n",
       "      setTimeout(display_loaded, 100)\n",
       "    }\n",
       "  }\n",
       "\n",
       "\n",
       "  function run_callbacks() {\n",
       "    try {\n",
       "      root._bokeh_onload_callbacks.forEach(function(callback) { callback() });\n",
       "    }\n",
       "    finally {\n",
       "      delete root._bokeh_onload_callbacks\n",
       "    }\n",
       "    console.info(\"Bokeh: all callbacks have finished\");\n",
       "  }\n",
       "\n",
       "  function load_libs(js_urls, callback) {\n",
       "    root._bokeh_onload_callbacks.push(callback);\n",
       "    if (root._bokeh_is_loading > 0) {\n",
       "      console.log(\"Bokeh: BokehJS is being loaded, scheduling callback at\", now());\n",
       "      return null;\n",
       "    }\n",
       "    if (js_urls == null || js_urls.length === 0) {\n",
       "      run_callbacks();\n",
       "      return null;\n",
       "    }\n",
       "    console.log(\"Bokeh: BokehJS not loaded, scheduling load and callback at\", now());\n",
       "    root._bokeh_is_loading = js_urls.length;\n",
       "    for (var i = 0; i < js_urls.length; i++) {\n",
       "      var url = js_urls[i];\n",
       "      var s = document.createElement('script');\n",
       "      s.src = url;\n",
       "      s.async = false;\n",
       "      s.onreadystatechange = s.onload = function() {\n",
       "        root._bokeh_is_loading--;\n",
       "        if (root._bokeh_is_loading === 0) {\n",
       "          console.log(\"Bokeh: all BokehJS libraries loaded\");\n",
       "          run_callbacks()\n",
       "        }\n",
       "      };\n",
       "      s.onerror = function() {\n",
       "        console.warn(\"failed to load library \" + url);\n",
       "      };\n",
       "      console.log(\"Bokeh: injecting script tag for BokehJS library: \", url);\n",
       "      document.getElementsByTagName(\"head\")[0].appendChild(s);\n",
       "    }\n",
       "  };var element = document.getElementById(\"00eda8b5-1c23-4ea4-8872-f792e9e2050d\");\n",
       "  if (element == null) {\n",
       "    console.log(\"Bokeh: ERROR: autoload.js configured with elementid '00eda8b5-1c23-4ea4-8872-f792e9e2050d' but no matching script tag was found. \")\n",
       "    return false;\n",
       "  }\n",
       "\n",
       "  var js_urls = [\"https://cdn.pydata.org/bokeh/release/bokeh-0.12.10.min.js\", \"https://cdn.pydata.org/bokeh/release/bokeh-widgets-0.12.10.min.js\", \"https://cdn.pydata.org/bokeh/release/bokeh-tables-0.12.10.min.js\", \"https://cdn.pydata.org/bokeh/release/bokeh-gl-0.12.10.min.js\"];\n",
       "\n",
       "  var inline_js = [\n",
       "    function(Bokeh) {\n",
       "      Bokeh.set_log_level(\"info\");\n",
       "    },\n",
       "    \n",
       "    function(Bokeh) {\n",
       "      \n",
       "    },\n",
       "    function(Bokeh) {\n",
       "      console.log(\"Bokeh: injecting CSS: https://cdn.pydata.org/bokeh/release/bokeh-0.12.10.min.css\");\n",
       "      Bokeh.embed.inject_css(\"https://cdn.pydata.org/bokeh/release/bokeh-0.12.10.min.css\");\n",
       "      console.log(\"Bokeh: injecting CSS: https://cdn.pydata.org/bokeh/release/bokeh-widgets-0.12.10.min.css\");\n",
       "      Bokeh.embed.inject_css(\"https://cdn.pydata.org/bokeh/release/bokeh-widgets-0.12.10.min.css\");\n",
       "      console.log(\"Bokeh: injecting CSS: https://cdn.pydata.org/bokeh/release/bokeh-tables-0.12.10.min.css\");\n",
       "      Bokeh.embed.inject_css(\"https://cdn.pydata.org/bokeh/release/bokeh-tables-0.12.10.min.css\");\n",
       "    }\n",
       "  ];\n",
       "\n",
       "  function run_inline_js() {\n",
       "    \n",
       "    if ((root.Bokeh !== undefined) || (force === true)) {\n",
       "      for (var i = 0; i < inline_js.length; i++) {\n",
       "        inline_js[i].call(root, root.Bokeh);\n",
       "      }if (force === true) {\n",
       "        display_loaded();\n",
       "      }} else if (Date.now() < root._bokeh_timeout) {\n",
       "      setTimeout(run_inline_js, 100);\n",
       "    } else if (!root._bokeh_failed_load) {\n",
       "      console.log(\"Bokeh: BokehJS failed to load within specified timeout.\");\n",
       "      root._bokeh_failed_load = true;\n",
       "    } else if (force !== true) {\n",
       "      var cell = $(document.getElementById(\"00eda8b5-1c23-4ea4-8872-f792e9e2050d\")).parents('.cell').data().cell;\n",
       "      cell.output_area.append_execute_result(NB_LOAD_WARNING)\n",
       "    }\n",
       "\n",
       "  }\n",
       "\n",
       "  if (root._bokeh_is_loading === 0) {\n",
       "    console.log(\"Bokeh: BokehJS loaded, going straight to plotting\");\n",
       "    run_inline_js();\n",
       "  } else {\n",
       "    load_libs(js_urls, function() {\n",
       "      console.log(\"Bokeh: BokehJS plotting callback run at\", now());\n",
       "      run_inline_js();\n",
       "    });\n",
       "  }\n",
       "}(window));"
      ],
      "application/vnd.bokehjs_load.v0+json": "\n(function(root) {\n  function now() {\n    return new Date();\n  }\n\n  var force = true;\n\n  if (typeof (root._bokeh_onload_callbacks) === \"undefined\" || force === true) {\n    root._bokeh_onload_callbacks = [];\n    root._bokeh_is_loading = undefined;\n  }\n\n  \n\n  \n  if (typeof (root._bokeh_timeout) === \"undefined\" || force === true) {\n    root._bokeh_timeout = Date.now() + 5000;\n    root._bokeh_failed_load = false;\n  }\n\n  var NB_LOAD_WARNING = {'data': {'text/html':\n     \"<div style='background-color: #fdd'>\\n\"+\n     \"<p>\\n\"+\n     \"BokehJS does not appear to have successfully loaded. If loading BokehJS from CDN, this \\n\"+\n     \"may be due to a slow or bad network connection. Possible fixes:\\n\"+\n     \"</p>\\n\"+\n     \"<ul>\\n\"+\n     \"<li>re-rerun `output_notebook()` to attempt to load from CDN again, or</li>\\n\"+\n     \"<li>use INLINE resources instead, as so:</li>\\n\"+\n     \"</ul>\\n\"+\n     \"<code>\\n\"+\n     \"from bokeh.resources import INLINE\\n\"+\n     \"output_notebook(resources=INLINE)\\n\"+\n     \"</code>\\n\"+\n     \"</div>\"}};\n\n  function display_loaded() {\n    var el = document.getElementById(\"00eda8b5-1c23-4ea4-8872-f792e9e2050d\");\n    if (el != null) {\n      el.textContent = \"BokehJS is loading...\";\n    }\n    if (root.Bokeh !== undefined) {\n      if (el != null) {\n        el.textContent = \"BokehJS \" + root.Bokeh.version + \" successfully loaded.\";\n      }\n    } else if (Date.now() < root._bokeh_timeout) {\n      setTimeout(display_loaded, 100)\n    }\n  }\n\n\n  function run_callbacks() {\n    try {\n      root._bokeh_onload_callbacks.forEach(function(callback) { callback() });\n    }\n    finally {\n      delete root._bokeh_onload_callbacks\n    }\n    console.info(\"Bokeh: all callbacks have finished\");\n  }\n\n  function load_libs(js_urls, callback) {\n    root._bokeh_onload_callbacks.push(callback);\n    if (root._bokeh_is_loading > 0) {\n      console.log(\"Bokeh: BokehJS is being loaded, scheduling callback at\", now());\n      return null;\n    }\n    if (js_urls == null || js_urls.length === 0) {\n      run_callbacks();\n      return null;\n    }\n    console.log(\"Bokeh: BokehJS not loaded, scheduling load and callback at\", now());\n    root._bokeh_is_loading = js_urls.length;\n    for (var i = 0; i < js_urls.length; i++) {\n      var url = js_urls[i];\n      var s = document.createElement('script');\n      s.src = url;\n      s.async = false;\n      s.onreadystatechange = s.onload = function() {\n        root._bokeh_is_loading--;\n        if (root._bokeh_is_loading === 0) {\n          console.log(\"Bokeh: all BokehJS libraries loaded\");\n          run_callbacks()\n        }\n      };\n      s.onerror = function() {\n        console.warn(\"failed to load library \" + url);\n      };\n      console.log(\"Bokeh: injecting script tag for BokehJS library: \", url);\n      document.getElementsByTagName(\"head\")[0].appendChild(s);\n    }\n  };var element = document.getElementById(\"00eda8b5-1c23-4ea4-8872-f792e9e2050d\");\n  if (element == null) {\n    console.log(\"Bokeh: ERROR: autoload.js configured with elementid '00eda8b5-1c23-4ea4-8872-f792e9e2050d' but no matching script tag was found. \")\n    return false;\n  }\n\n  var js_urls = [\"https://cdn.pydata.org/bokeh/release/bokeh-0.12.10.min.js\", \"https://cdn.pydata.org/bokeh/release/bokeh-widgets-0.12.10.min.js\", \"https://cdn.pydata.org/bokeh/release/bokeh-tables-0.12.10.min.js\", \"https://cdn.pydata.org/bokeh/release/bokeh-gl-0.12.10.min.js\"];\n\n  var inline_js = [\n    function(Bokeh) {\n      Bokeh.set_log_level(\"info\");\n    },\n    \n    function(Bokeh) {\n      \n    },\n    function(Bokeh) {\n      console.log(\"Bokeh: injecting CSS: https://cdn.pydata.org/bokeh/release/bokeh-0.12.10.min.css\");\n      Bokeh.embed.inject_css(\"https://cdn.pydata.org/bokeh/release/bokeh-0.12.10.min.css\");\n      console.log(\"Bokeh: injecting CSS: https://cdn.pydata.org/bokeh/release/bokeh-widgets-0.12.10.min.css\");\n      Bokeh.embed.inject_css(\"https://cdn.pydata.org/bokeh/release/bokeh-widgets-0.12.10.min.css\");\n      console.log(\"Bokeh: injecting CSS: https://cdn.pydata.org/bokeh/release/bokeh-tables-0.12.10.min.css\");\n      Bokeh.embed.inject_css(\"https://cdn.pydata.org/bokeh/release/bokeh-tables-0.12.10.min.css\");\n    }\n  ];\n\n  function run_inline_js() {\n    \n    if ((root.Bokeh !== undefined) || (force === true)) {\n      for (var i = 0; i < inline_js.length; i++) {\n        inline_js[i].call(root, root.Bokeh);\n      }if (force === true) {\n        display_loaded();\n      }} else if (Date.now() < root._bokeh_timeout) {\n      setTimeout(run_inline_js, 100);\n    } else if (!root._bokeh_failed_load) {\n      console.log(\"Bokeh: BokehJS failed to load within specified timeout.\");\n      root._bokeh_failed_load = true;\n    } else if (force !== true) {\n      var cell = $(document.getElementById(\"00eda8b5-1c23-4ea4-8872-f792e9e2050d\")).parents('.cell').data().cell;\n      cell.output_area.append_execute_result(NB_LOAD_WARNING)\n    }\n\n  }\n\n  if (root._bokeh_is_loading === 0) {\n    console.log(\"Bokeh: BokehJS loaded, going straight to plotting\");\n    run_inline_js();\n  } else {\n    load_libs(js_urls, function() {\n      console.log(\"Bokeh: BokehJS plotting callback run at\", now());\n      run_inline_js();\n    });\n  }\n}(window));"
     },
     "metadata": {},
     "output_type": "display_data"
    }
   ],
   "source": [
    "output_notebook()"
   ]
  },
  {
   "cell_type": "code",
   "execution_count": 3,
   "metadata": {
    "collapsed": true
   },
   "outputs": [],
   "source": [
    "residual = ['-pK1 + pCO3 + 2 * pH - pCO2',\n",
    "            '-pK2 + pCO3 + pH - pHCO3',\n",
    "            '-pKw + pH + pOH',\n",
    "            '-log(10 ** pCO2T) + log(10 ** pCO2 + 10 ** pHCO3 + 10 ** pCO3)']\n",
    "\n",
    "ind_vars = ['pH', 'pCO2T']\n",
    "dep_vars = ['pHCO3', 'pCO3', 'pCO2', 'pOH']\n",
    "parameters = {'pKw': -14, 'pK1': -16.681, 'pK2': -10.33}\n",
    "options = {'DISPLAY': False}\n",
    "\n",
    "system = tts(dep_vars, residual, indep_vars=ind_vars,\n",
    "             parameters=parameters)"
   ]
  },
  {
   "cell_type": "code",
   "execution_count": 4,
   "metadata": {
    "collapsed": true
   },
   "outputs": [],
   "source": [
    "n = 100\n",
    "pH = np.linspace(-14, 0, n)\n",
    "pco2t = -3\n",
    "ind_var = {'pH': pH, 'pCO2T': pco2t*np.ones(pH.shape)}\n",
    "\n",
    "guess = {var: np.ones(pH.shape) for var in dep_vars}\n",
    "\n",
    "solution, report = system.solve(guess, indep_var_val=ind_var,\n",
    "                                input_options=options)\n",
    "solution['pH'] = pH\n",
    "\n",
    "source = ColumnDataSource(data=solution)"
   ]
  },
  {
   "cell_type": "code",
   "execution_count": 5,
   "metadata": {
    "collapsed": true
   },
   "outputs": [],
   "source": [
    "plot = figure(plot_height=400, plot_width=600, title=\"carbonate speciation\", x_range=[-14, 0])\n",
    "colors = ['red', 'cyan', 'green', 'blue']\n",
    "for ind, var in enumerate(dep_vars):\n",
    "    plot.line('pH', var, source=source, line_color=colors[ind], line_width=3,\n",
    "              line_alpha=0.6)\n",
    "\n",
    "plot.xaxis.axis_label = 'log10 [H^+]'\n",
    "plot.yaxis.axis_label = 'log10 concentration'"
   ]
  },
  {
   "cell_type": "code",
   "execution_count": 6,
   "metadata": {},
   "outputs": [],
   "source": [
    "def update_data(CO2T):\n",
    "\n",
    "    # Get the current slider values\n",
    "    ind_var_val = {'pH': pH, 'pCO2T': CO2T*np.ones(pH.shape)}\n",
    "    new_sol, report = system.solve(guess, indep_var_val=ind_var_val,\n",
    "                           input_options=options)\n",
    "    new_sol['pH'] = pH\n",
    "    source.data = new_sol\n",
    "    push_notebook()"
   ]
  },
  {
   "cell_type": "code",
   "execution_count": 7,
   "metadata": {},
   "outputs": [
    {
     "data": {
      "text/html": [
       "\n",
       "<div class=\"bk-root\">\n",
       "    <div class=\"bk-plotdiv\" id=\"92931233-8834-45d6-b9e3-c14bb318d27e\"></div>\n",
       "</div>"
      ]
     },
     "metadata": {},
     "output_type": "display_data"
    },
    {
     "data": {
      "application/javascript": [
       "(function(root) {\n",
       "  function embed_document(root) {\n",
       "    var docs_json = {\"9f605b73-4b91-43e2-ac39-6a8fc1440b1d\":{\"roots\":{\"references\":[{\"attributes\":{},\"id\":\"844ddf04-cce0-469a-a77f-b26836041e59\",\"type\":\"LinearScale\"},{\"attributes\":{\"callback\":null,\"end\":0,\"start\":-14},\"id\":\"8a66fc2d-912f-4fce-90c5-3a208010e818\",\"type\":\"Range1d\"},{\"attributes\":{},\"id\":\"6ec709cf-c474-4785-af54-a6bb4a4ff9a4\",\"type\":\"LinearScale\"},{\"attributes\":{\"axis_label\":\"log10 concentration\",\"formatter\":{\"id\":\"888bf632-6b89-4dd7-bc54-6410d3b4126a\",\"type\":\"BasicTickFormatter\"},\"plot\":{\"id\":\"622533a1-a5e4-43f8-9980-9c61793f17ed\",\"subtype\":\"Figure\",\"type\":\"Plot\"},\"ticker\":{\"id\":\"8834a5ad-d7aa-4641-b05a-19f70b2d8546\",\"type\":\"BasicTicker\"}},\"id\":\"6c646ef8-37e3-474c-b480-3ca772124a9b\",\"type\":\"LinearAxis\"},{\"attributes\":{\"callback\":null},\"id\":\"7c6fdc5b-6d46-427b-bf47-dac912944eb6\",\"type\":\"DataRange1d\"},{\"attributes\":{},\"id\":\"2773bc72-512a-461f-a5e1-23bb1614edde\",\"type\":\"BasicTicker\"},{\"attributes\":{\"source\":{\"id\":\"b9a9a141-94b4-4ebb-b271-0269aca24603\",\"type\":\"ColumnDataSource\"}},\"id\":\"3bb8599e-d465-481e-aaef-277a2241b8db\",\"type\":\"CDSView\"},{\"attributes\":{\"axis_label\":\"log10 [H^+]\",\"formatter\":{\"id\":\"229ca9aa-ca74-4fd9-b8df-e9b848ba83e0\",\"type\":\"BasicTickFormatter\"},\"plot\":{\"id\":\"622533a1-a5e4-43f8-9980-9c61793f17ed\",\"subtype\":\"Figure\",\"type\":\"Plot\"},\"ticker\":{\"id\":\"2773bc72-512a-461f-a5e1-23bb1614edde\",\"type\":\"BasicTicker\"}},\"id\":\"3cdc5a97-a732-44d7-8279-3f7166e5c88b\",\"type\":\"LinearAxis\"},{\"attributes\":{\"dimension\":1,\"plot\":{\"id\":\"622533a1-a5e4-43f8-9980-9c61793f17ed\",\"subtype\":\"Figure\",\"type\":\"Plot\"},\"ticker\":{\"id\":\"8834a5ad-d7aa-4641-b05a-19f70b2d8546\",\"type\":\"BasicTicker\"}},\"id\":\"91f839af-7e32-44cb-8d4c-31dd9747bd24\",\"type\":\"Grid\"},{\"attributes\":{\"source\":{\"id\":\"b9a9a141-94b4-4ebb-b271-0269aca24603\",\"type\":\"ColumnDataSource\"}},\"id\":\"f5817250-35e4-4127-958e-5b9300733bf0\",\"type\":\"CDSView\"},{\"attributes\":{\"line_alpha\":{\"value\":0.1},\"line_color\":{\"value\":\"#1f77b4\"},\"line_width\":{\"value\":3},\"x\":{\"field\":\"pH\"},\"y\":{\"field\":\"pHCO3\"}},\"id\":\"d831e995-58e7-4090-ae04-1df8e34a4f3a\",\"type\":\"Line\"},{\"attributes\":{\"overlay\":{\"id\":\"1602c8ab-0ea8-4dc6-97a9-3633b2135212\",\"type\":\"BoxAnnotation\"}},\"id\":\"24b559de-981a-432e-a5ed-ccd719874da8\",\"type\":\"BoxZoomTool\"},{\"attributes\":{\"plot\":null,\"text\":\"carbonate speciation\"},\"id\":\"b521d1d0-0909-47b8-980b-137f1a468afd\",\"type\":\"Title\"},{\"attributes\":{\"line_alpha\":{\"value\":0.6},\"line_color\":{\"value\":\"cyan\"},\"line_width\":{\"value\":3},\"x\":{\"field\":\"pH\"},\"y\":{\"field\":\"pCO3\"}},\"id\":\"0f8a36da-8768-4aa0-ab34-052f826aba0c\",\"type\":\"Line\"},{\"attributes\":{},\"id\":\"229ca9aa-ca74-4fd9-b8df-e9b848ba83e0\",\"type\":\"BasicTickFormatter\"},{\"attributes\":{},\"id\":\"da80e628-b990-457a-9ebc-8a5243e1927f\",\"type\":\"HelpTool\"},{\"attributes\":{\"data_source\":{\"id\":\"b9a9a141-94b4-4ebb-b271-0269aca24603\",\"type\":\"ColumnDataSource\"},\"glyph\":{\"id\":\"46c833ef-cb51-42b1-9ef6-59b0dab96259\",\"type\":\"Line\"},\"hover_glyph\":null,\"muted_glyph\":null,\"nonselection_glyph\":{\"id\":\"d831e995-58e7-4090-ae04-1df8e34a4f3a\",\"type\":\"Line\"},\"selection_glyph\":null,\"view\":{\"id\":\"3bb8599e-d465-481e-aaef-277a2241b8db\",\"type\":\"CDSView\"}},\"id\":\"e7629861-bef3-439a-ad2c-b3e38b73152e\",\"type\":\"GlyphRenderer\"},{\"attributes\":{},\"id\":\"7cbe51e6-8ba5-43cb-b297-0c8f1c3fb843\",\"type\":\"WheelZoomTool\"},{\"attributes\":{\"plot\":{\"id\":\"622533a1-a5e4-43f8-9980-9c61793f17ed\",\"subtype\":\"Figure\",\"type\":\"Plot\"},\"ticker\":{\"id\":\"2773bc72-512a-461f-a5e1-23bb1614edde\",\"type\":\"BasicTicker\"}},\"id\":\"b806612d-dd0b-4091-8135-2b47931da770\",\"type\":\"Grid\"},{\"attributes\":{},\"id\":\"e8e1ae60-05c8-43e5-9815-29b87f6830ac\",\"type\":\"ResetTool\"},{\"attributes\":{\"source\":{\"id\":\"b9a9a141-94b4-4ebb-b271-0269aca24603\",\"type\":\"ColumnDataSource\"}},\"id\":\"e7ab3e5d-6285-42d6-bae1-c168ddc83364\",\"type\":\"CDSView\"},{\"attributes\":{\"line_alpha\":{\"value\":0.1},\"line_color\":{\"value\":\"#1f77b4\"},\"line_width\":{\"value\":3},\"x\":{\"field\":\"pH\"},\"y\":{\"field\":\"pCO3\"}},\"id\":\"c08ad146-367b-47e3-a206-2d6426d17f85\",\"type\":\"Line\"},{\"attributes\":{\"data_source\":{\"id\":\"b9a9a141-94b4-4ebb-b271-0269aca24603\",\"type\":\"ColumnDataSource\"},\"glyph\":{\"id\":\"0f8a36da-8768-4aa0-ab34-052f826aba0c\",\"type\":\"Line\"},\"hover_glyph\":null,\"muted_glyph\":null,\"nonselection_glyph\":{\"id\":\"c08ad146-367b-47e3-a206-2d6426d17f85\",\"type\":\"Line\"},\"selection_glyph\":null,\"view\":{\"id\":\"f5817250-35e4-4127-958e-5b9300733bf0\",\"type\":\"CDSView\"}},\"id\":\"0cdcbe02-536b-4312-9e52-1f6c3e948f92\",\"type\":\"GlyphRenderer\"},{\"attributes\":{},\"id\":\"eefc7e68-e26e-4c67-a274-e29c4ae6d803\",\"type\":\"SaveTool\"},{\"attributes\":{\"below\":[{\"id\":\"3cdc5a97-a732-44d7-8279-3f7166e5c88b\",\"type\":\"LinearAxis\"}],\"left\":[{\"id\":\"6c646ef8-37e3-474c-b480-3ca772124a9b\",\"type\":\"LinearAxis\"}],\"plot_height\":400,\"renderers\":[{\"id\":\"3cdc5a97-a732-44d7-8279-3f7166e5c88b\",\"type\":\"LinearAxis\"},{\"id\":\"b806612d-dd0b-4091-8135-2b47931da770\",\"type\":\"Grid\"},{\"id\":\"6c646ef8-37e3-474c-b480-3ca772124a9b\",\"type\":\"LinearAxis\"},{\"id\":\"91f839af-7e32-44cb-8d4c-31dd9747bd24\",\"type\":\"Grid\"},{\"id\":\"1602c8ab-0ea8-4dc6-97a9-3633b2135212\",\"type\":\"BoxAnnotation\"},{\"id\":\"e7629861-bef3-439a-ad2c-b3e38b73152e\",\"type\":\"GlyphRenderer\"},{\"id\":\"0cdcbe02-536b-4312-9e52-1f6c3e948f92\",\"type\":\"GlyphRenderer\"},{\"id\":\"6a2873eb-a933-4bb9-95e4-49f728d4c920\",\"type\":\"GlyphRenderer\"},{\"id\":\"385cad9d-a966-45a3-a42e-5a0bc01c1d21\",\"type\":\"GlyphRenderer\"}],\"title\":{\"id\":\"b521d1d0-0909-47b8-980b-137f1a468afd\",\"type\":\"Title\"},\"toolbar\":{\"id\":\"c8f24afd-9593-42c3-9a81-c6dc61b720e8\",\"type\":\"Toolbar\"},\"x_range\":{\"id\":\"8a66fc2d-912f-4fce-90c5-3a208010e818\",\"type\":\"Range1d\"},\"x_scale\":{\"id\":\"844ddf04-cce0-469a-a77f-b26836041e59\",\"type\":\"LinearScale\"},\"y_range\":{\"id\":\"7c6fdc5b-6d46-427b-bf47-dac912944eb6\",\"type\":\"DataRange1d\"},\"y_scale\":{\"id\":\"6ec709cf-c474-4785-af54-a6bb4a4ff9a4\",\"type\":\"LinearScale\"}},\"id\":\"622533a1-a5e4-43f8-9980-9c61793f17ed\",\"subtype\":\"Figure\",\"type\":\"Plot\"},{\"attributes\":{},\"id\":\"888bf632-6b89-4dd7-bc54-6410d3b4126a\",\"type\":\"BasicTickFormatter\"},{\"attributes\":{},\"id\":\"9855054c-4f03-4c1b-98a3-46ef4abaf7b5\",\"type\":\"PanTool\"},{\"attributes\":{\"bottom_units\":\"screen\",\"fill_alpha\":{\"value\":0.5},\"fill_color\":{\"value\":\"lightgrey\"},\"left_units\":\"screen\",\"level\":\"overlay\",\"line_alpha\":{\"value\":1.0},\"line_color\":{\"value\":\"black\"},\"line_dash\":[4,4],\"line_width\":{\"value\":2},\"plot\":null,\"render_mode\":\"css\",\"right_units\":\"screen\",\"top_units\":\"screen\"},\"id\":\"1602c8ab-0ea8-4dc6-97a9-3633b2135212\",\"type\":\"BoxAnnotation\"},{\"attributes\":{\"line_alpha\":{\"value\":0.6},\"line_color\":{\"value\":\"green\"},\"line_width\":{\"value\":3},\"x\":{\"field\":\"pH\"},\"y\":{\"field\":\"pCO2\"}},\"id\":\"a6871516-c9fd-43d1-be5d-25ea836596fd\",\"type\":\"Line\"},{\"attributes\":{\"data_source\":{\"id\":\"b9a9a141-94b4-4ebb-b271-0269aca24603\",\"type\":\"ColumnDataSource\"},\"glyph\":{\"id\":\"a6871516-c9fd-43d1-be5d-25ea836596fd\",\"type\":\"Line\"},\"hover_glyph\":null,\"muted_glyph\":null,\"nonselection_glyph\":{\"id\":\"b0dec3d4-496a-4542-8049-288fa6585dfb\",\"type\":\"Line\"},\"selection_glyph\":null,\"view\":{\"id\":\"af39bf00-34a8-43bc-96da-b76deda22b57\",\"type\":\"CDSView\"}},\"id\":\"6a2873eb-a933-4bb9-95e4-49f728d4c920\",\"type\":\"GlyphRenderer\"},{\"attributes\":{},\"id\":\"8834a5ad-d7aa-4641-b05a-19f70b2d8546\",\"type\":\"BasicTicker\"},{\"attributes\":{\"callback\":null,\"column_names\":[\"pHCO3\",\"pCO3\",\"pCO2\",\"pOH\",\"pH\"],\"data\":{\"pCO2\":{\"__ndarray__\":\"aHUFI2CjLMAWlXbzlRIswLJqJ5HNgSvANf54rQfxKsD0lu49RWAqwHbgRpaHzynAHyCDjNA+KcByB5SqIq4owIV/uXKBHSjAKSBmvfGMJ8DIb745evwmwFfFpRwkbCbAroKrDfzbJcBlqMxkE0wlwEljHs+BvCTAWHFucWctJMAUin+b754jwG4xIA9UESPApV0ou+CEIsANnvmH9/khwMMLd2cTcSHAJ4/iSMnqIMD49JAAxWcgwGtX3Q+A0R/AU2UnouHcHsAEWMt+5/IdwNQIcZhkFB3AGWtzUJ9BHMAKi9uxQ3obwHG7Hhh0vRrA+G/yvfEJGsBmSDbNTl4ZwN2Hl6YbuRjA979nBAcZGMBQpsxt73wXwDZD8dLo4xbAHmivmzpNFsBYyQX/WbgVwETGfVbjJBXAPC19CJSSFMCAtQzcRQEUwOCH7RHscBPADDmsY5LhEsDhdR7wXVMSwMZahw6QxhHAee5B6Yo7EcBGnYyH17IQwET+XHosLRDAAhqjNudWD8ACPoxumF0OwB+0IbELcQ3Au93uyR6UDMA34QMzr8kLwOrSvWFAFAvAAZJMiZd1CsBIT5USae4JwHrshug0fgnA1rSmiV8jCcCZbt7sfdsIwML3Xaa4owjAUOmEyCh5CMB35XrPG1kIwOEUwM05QQjAQEh9qZIvCMB9R0fOmiIIwBC3kSYfGQjA5lr+9DUSCMDSvknbLw0IwD17z6aKCQjAtfKpauYGCMA9e27e/AQIwNRDabiaAwjAbf5Up5oCCMAGcdaS4QEIwEjvVNZbAQjAVIhMOPsACMBCy8xttQAIwAFbVgWDAAjAV8F+nV4ACMAAgeNSRAAIwMb4XFYxAAjAYCdroCMACMClvtK5GQAIwIxikpMSAAjATk7yaQ0ACMAihJuvCQAIwNnffP4GAAjALO/hDAUACMDslJGlAwAIwMIVHaICAAjA1+3D5gEACMCh/3tfAQAIwJXkzP0AAAjApbZDtwAACMCb9FSEAAAIwAnpjV8AAAjAdXv/RAAACMAdd9IxAAAIwMTB+SMAAAjArDD6GQAACMA=\",\"dtype\":\"float64\",\"shape\":[100]},\"pCO3\":{\"__ndarray__\":\"SHHarDAACMDs/CdoQwAIwEhgdFhdAAjARLtDQ4EACMAwK6P+sgAIwCpejdn3AAjAsWkHLFcBCMDyE9Qd2wEIwCsB87eRAgjAsJAuXI4DCMAQ3BjH6wQIwD0/P8zOBgjAikHfCWoJCMBJ5ezfAg0IwNDdvAL4EQjA9CKGBcoYCMDYklMnJiIIwDA9X2/zLgjA9PoImWFACMCECddF+FcIwE3NVT2jdwjAxOeMPLahCMD3i8+U4NgIwN5zzysIIAnAnpzsyQZ6CcDojr38TekJwHn9kamDbwrA8s4fkzQNC8C8G3nPuMELwHqJiBVViwzAef+42otnDcBEvclygVMOwCNJFZ9WTA/AH2MfarQnEMDwz0iQOq0QwErzMbLRNRHAqp60N8HAEcBchs9Xfk0SwMAJDGyl2xLAMPfP2vNqE8DsBSRrQ/sTwMBeyV2HjBTAZJZMbMseFcCvWYO1NLIVwAvFsJAERxbANd8vKJ3dFsB6FD+Dh3YXwO770zJ6EhjAIRGNEF+yGMCZKUZpVVcZwB1rVcesAhrAZIaAENS1GsCYjs8BOnIbwOkN8VUgORzA7PN8pmkLHcAG2eUncOkdwBUuo8/z0h7Au5j33CbHH8AK/qvlaWIgwI8jbnJH5SDALiNaWXJrIcB05Xn5PfQhwIp0bVcUfyLAnAS/bHkLI8Cnx1NUCpkjwMimyEh6JyTA+BLG2o62JMAuL7syHEYlwIXh/sMB1iXAn8JXkydmJsD7J6sOfPYmwF0djGPyhifAP0+pPYEXKMAi7+vWIagowOzRLUbPOCnAa/sN/YXJKcBiT9BoQ1oqwI72FK0F6yrAXlOBcct7K8CExjy9kwwswLJnfdxdnSzAkjZjTSkuLcCfXx+y9b4twNWL8cbCTy7AAsrrWpDgLsCwWrhKXnEvwG16aT4WATDA9j1nb31JMMBMVK6x5JEwwAPmcABM2jDApOI2WLMiMcB7Bn+2GmsxwLhEehmCszHAlkDaf+n7McD0ia3oUEQywB/KRVO4jDLACh4lvx/VMsAcn/Arhx0zwBCqZpnuZTPAitlXB1auM8A=\",\"dtype\":\"float64\",\"shape\":[100]},\"pH\":{\"__ndarray__\":\"AAAAAAAALMBi3s6QmLcrwMW8nSExbyvAJ5tssskmK8CJeTtDYt4qwOtXCtT6lSrATjbZZJNNKsCwFKj1KwUqwBLzdobEvCnAdNFFF110KcDXrxSo9SspwDmO4ziO4yjAm2yyySabKMD+SoFav1IowGApUOtXCijAwgcffPDBJ8Ak5u0MiXknwIbEvJ0hMSfA6aKLLrroJsBLgVq/UqAmwK1fKVDrVybAED744IMPJsByHMdxHMclwNT6lQK1fiXANtlkk002JcCZtzMk5u0kwPuVArV+pSTAXXTRRRddJMDAUqDWrxQkwCIxb2dIzCPAhA8++OCDI8Dm7QyJeTsjwEjM2xkS8yLAq6qqqqqqIsANiXk7Q2IiwHBnSMzbGSLA0kUXXXTRIcA0JObtDIkhwJYCtX6lQCHA+OCDDz74IMBav1Kg1q8gwL2dITFvZyDAH3zwwQcfIMADtX6lQK0fwMdxHMdxHB/AjC666KKLHsBQ61cK1PodwBWo9SsFah3A2mSTTTbZHMCeITFvZ0gcwGPezpCYtxvAJ5tssskmG8DsVwrU+pUawLAUqPUrBRrAddFFF110GcA5juM4juMYwP5KgVq/UhjAwgcffPDBF8CGxLydITEXwEyBWr9SoBbAED744IMPFsDU+pUCtX4VwJi3MyTm7RTAXnTRRRddFMAiMW9nSMwTwObtDIl5OxPArKqqqqqqEsBwZ0jM2xkSwDQk5u0MiRHA+OCDDz74EMC+nSExb2cQwAS1fqVArQ/AjC666KKLDsAUqPUrBWoNwKAhMW9nSAzAKJtssskmC8CwFKj1KwUKwDiO4ziO4wjAxAcffPDBB8BMgVq/UqAGwNT6lQK1fgXAYHTRRRddBMDo7QyJeTsDwHBnSMzbGQLA+OCDDz74AMAItX6lQK3/vxio9SsFav2/KJtssskm+784juM4juP4v1CBWr9SoPa/YHTRRRdd9L9wZ0jM2xnyvwC1fqVAre+/MJtssskm679QgVq/UqDmv3BnSMzbGeK/QJtssskm27+AZ0jM2xnSv4BnSMzbGcK/AAAAAAAAAAA=\",\"dtype\":\"float64\",\"shape\":[100]},\"pHCO3\":{\"__ndarray__\":\"UoBO0SyuGsDoApNQZx0awFzxVmqljBnAnltcgej7GMBY0KmAMmsYwJmmvA+G2hfAImmX2uZJF8AHexv1WbkWwGiuyGPmKBbA7jKE15WYFcBkFZeudQgVwL4DyFKYeBTAqcE1ExfpE8BOUNqfFFoTwFYJ4FLAyxLArGjidVo+EsBi3WaoObIRwFJvCm7RJxHA+gp9pLmfEMAGz4EcthoQwF3bvXN5Mw/AYG8wtu47DsAbja5Re1ENwIru6SsFdwzA0pBCDWavC8Co/E6DD/0KwMHkXnOnYQrAwi8ooLrdCcAY9rwfoXAJwF7dB6mfGAnA5cxzsTjTCMA4BMCMkJ0IwJ8JR/zHdAjARgCsdDxWCMBvUzoEqz8IwK8TSIs7LwjA+OOI2XwjCMDjLPpcWRsIwDWtrsgJFgjAnQFy6QgTCMCcmFVNChIIwM/D23X0EgjAn6wd1t4VCMDArMarExsIwAD9XKUVIwjA3qqWF6kuCMDwjvAQ4D4IwGLXVbMnVQjAUnsDslNzCMDKJbGmopsIwF0iC6az0AjAcdKce2QVCcBjXHahkmwJwI7U9IzB2AnAHRpIcbZbCsDaXVW3JfYKwIKBC0qPpwvAVtDvp1duDMCREOzHE0gNwC4gMD7sMQ7ANJgbHfooD8BqDWtwRRUQwFro700jmhDARMUwmh4iEcAeCPiKcawRwCSDf5WCOBLASRgY29zFEsB7DaCsKFQTwOwuxfAk4xPA5K0UsaFyFMBiNVnJewIVwOrcuJSZkhXAcv2QaugiFsD7+bO+WrMWwFZ81b7mQxfAGIwzToXUF8DL8FVHMWUYwOb7fPHm9RjATHLzm6OGGcBcFQhVZRcawHsUJ7UqqBrAAm+QuPI4G8DgfaajvMkbwBCT6O6HWhzALcx6OFTrHMBRqrE5IXwdwGibhL/uDB7ATmYZpbydHsBqfNPPii4fwA+AeyxZvx/Aq5eY1hMoIMC7vfcje3AgwJYYvXriuCDAt+5L2EkBIcDTX8E6sUkhwIy+wKAYkiHAxEROCYDaIcBMJbRz5yIiwJQZb99OayLA7FYgTLazIsA=\",\"dtype\":\"float64\",\"shape\":[100]},\"pOH\":{\"__ndarray__\":\"AAAAAAAAAACAZ0jM2xnCv2BnSMzbGdK/IJtssskm279wZ0jM2xniv1CBWr9SoOa/IJtssskm678AtX6lQK3vv3BnSMzbGfK/YHTRRRdd9L9IgVq/UqD2vziO4ziO4/i/KJtssskm+78QqPUrBWr9vwC1fqVArf+/+OCDDz74AMBwZ0jM2xkCwOjtDIl5OwPAXHTRRRddBMDU+pUCtX4FwEyBWr9SoAbAwAcffPDBB8A4juM4juMIwLAUqPUrBQrAKJtssskmC8CcITFvZ0gMwBSo9SsFag3AjC666KKLDsAAtX6lQK0PwLydITFvZxDA+OCDDz74EMA0JObtDIkRwHBnSMzbGRLAqqqqqqqqEsDm7QyJeTsTwCAxb2dIzBPAXHTRRRddFMCYtzMk5u0UwNT6lQK1fhXAED744IMPFsBMgVq/UqAWwIbEvJ0hMRfAwgcffPDBF8D9SoFav1IYwDmO4ziO4xjAdNFFF110GcCwFKj1KwUawOtXCtT6lRrAJptssskmG8Bi3s6QmLcbwJ0hMW9nSBzA2WSTTTbZHMAUqPUrBWodwFDrVwrU+h3Aiy666KKLHsDHcRzHcRwfwAK1fqVArR/AH3zwwQcfIMC9nSExb2cgwFq/UqDWryDA+OCDDz74IMCWArV+pUAhwDQk5u0MiSHA0UUXXXTRIcBvZ0jM2xkiwA2JeTtDYiLAqqqqqqqqIsBIzNsZEvMiwObtDIl5OyPAhA8++OCDI8AhMW9nSMwjwL9SoNavFCTAXXTRRRddJMD7lQK1fqUkwJi3MyTm7STANtlkk002JcDU+pUCtX4lwHIcx3EcxyXADz744IMPJsCtXylQ61cmwEuBWr9SoCbA6KKLLrroJsCGxLydITEnwCTm7QyJeSfAwgcffPDBJ8BfKVDrVwoowP1KgVq/UijAm2yyySabKMA5juM4juMowNavFKj1KynAdNFFF110KcAS83aGxLwpwLAUqPUrBSrATTbZZJNNKsDrVwrU+pUqwIl5O0Ni3irAJptssskmK8DEvJ0hMW8rwGLezpCYtyvAAAAAAAAALMA=\",\"dtype\":\"float64\",\"shape\":[100]}}},\"id\":\"b9a9a141-94b4-4ebb-b271-0269aca24603\",\"type\":\"ColumnDataSource\"},{\"attributes\":{\"line_alpha\":{\"value\":0.1},\"line_color\":{\"value\":\"#1f77b4\"},\"line_width\":{\"value\":3},\"x\":{\"field\":\"pH\"},\"y\":{\"field\":\"pCO2\"}},\"id\":\"b0dec3d4-496a-4542-8049-288fa6585dfb\",\"type\":\"Line\"},{\"attributes\":{\"data_source\":{\"id\":\"b9a9a141-94b4-4ebb-b271-0269aca24603\",\"type\":\"ColumnDataSource\"},\"glyph\":{\"id\":\"38ac5ee5-6fee-45de-a089-071a12457d2f\",\"type\":\"Line\"},\"hover_glyph\":null,\"muted_glyph\":null,\"nonselection_glyph\":{\"id\":\"36e0ebe4-de5e-4bb7-976d-a9e94e3f60ea\",\"type\":\"Line\"},\"selection_glyph\":null,\"view\":{\"id\":\"e7ab3e5d-6285-42d6-bae1-c168ddc83364\",\"type\":\"CDSView\"}},\"id\":\"385cad9d-a966-45a3-a42e-5a0bc01c1d21\",\"type\":\"GlyphRenderer\"},{\"attributes\":{\"active_drag\":\"auto\",\"active_inspect\":\"auto\",\"active_scroll\":\"auto\",\"active_tap\":\"auto\",\"tools\":[{\"id\":\"9855054c-4f03-4c1b-98a3-46ef4abaf7b5\",\"type\":\"PanTool\"},{\"id\":\"7cbe51e6-8ba5-43cb-b297-0c8f1c3fb843\",\"type\":\"WheelZoomTool\"},{\"id\":\"24b559de-981a-432e-a5ed-ccd719874da8\",\"type\":\"BoxZoomTool\"},{\"id\":\"eefc7e68-e26e-4c67-a274-e29c4ae6d803\",\"type\":\"SaveTool\"},{\"id\":\"e8e1ae60-05c8-43e5-9815-29b87f6830ac\",\"type\":\"ResetTool\"},{\"id\":\"da80e628-b990-457a-9ebc-8a5243e1927f\",\"type\":\"HelpTool\"}]},\"id\":\"c8f24afd-9593-42c3-9a81-c6dc61b720e8\",\"type\":\"Toolbar\"},{\"attributes\":{\"source\":{\"id\":\"b9a9a141-94b4-4ebb-b271-0269aca24603\",\"type\":\"ColumnDataSource\"}},\"id\":\"af39bf00-34a8-43bc-96da-b76deda22b57\",\"type\":\"CDSView\"},{\"attributes\":{\"line_alpha\":{\"value\":0.6},\"line_color\":{\"value\":\"red\"},\"line_width\":{\"value\":3},\"x\":{\"field\":\"pH\"},\"y\":{\"field\":\"pHCO3\"}},\"id\":\"46c833ef-cb51-42b1-9ef6-59b0dab96259\",\"type\":\"Line\"},{\"attributes\":{\"line_alpha\":{\"value\":0.6},\"line_color\":{\"value\":\"blue\"},\"line_width\":{\"value\":3},\"x\":{\"field\":\"pH\"},\"y\":{\"field\":\"pOH\"}},\"id\":\"38ac5ee5-6fee-45de-a089-071a12457d2f\",\"type\":\"Line\"},{\"attributes\":{\"line_alpha\":{\"value\":0.1},\"line_color\":{\"value\":\"#1f77b4\"},\"line_width\":{\"value\":3},\"x\":{\"field\":\"pH\"},\"y\":{\"field\":\"pOH\"}},\"id\":\"36e0ebe4-de5e-4bb7-976d-a9e94e3f60ea\",\"type\":\"Line\"}],\"root_ids\":[\"622533a1-a5e4-43f8-9980-9c61793f17ed\"]},\"title\":\"Bokeh Application\",\"version\":\"0.12.10\"}};\n",
       "    var render_items = [{\"docid\":\"9f605b73-4b91-43e2-ac39-6a8fc1440b1d\",\"elementid\":\"92931233-8834-45d6-b9e3-c14bb318d27e\",\"modelid\":\"622533a1-a5e4-43f8-9980-9c61793f17ed\",\"notebook_comms_target\":\"8683e308-a982-4105-b0b5-5877746b0f57\"}];\n",
       "\n",
       "    root.Bokeh.embed.embed_items(docs_json, render_items);\n",
       "  }\n",
       "\n",
       "  if (root.Bokeh !== undefined) {\n",
       "    embed_document(root);\n",
       "  } else {\n",
       "    var attempts = 0;\n",
       "    var timer = setInterval(function(root) {\n",
       "      if (root.Bokeh !== undefined) {\n",
       "        embed_document(root);\n",
       "        clearInterval(timer);\n",
       "      }\n",
       "      attempts++;\n",
       "      if (attempts > 100) {\n",
       "        console.log(\"Bokeh: ERROR: Unable to embed document because BokehJS library is missing\")\n",
       "        clearInterval(timer);\n",
       "      }\n",
       "    }, 10, root)\n",
       "  }\n",
       "})(window);"
      ],
      "application/vnd.bokehjs_exec.v0+json": ""
     },
     "metadata": {
      "application/vnd.bokehjs_exec.v0+json": {
       "id": "622533a1-a5e4-43f8-9980-9c61793f17ed"
      }
     },
     "output_type": "display_data"
    },
    {
     "data": {
      "text/html": [
       "<p><code>&lt;Bokeh Notebook handle for <strong>In[7]</strong>&gt;</code></p>"
      ],
      "text/plain": [
       "<bokeh.io.notebook.CommsHandle at 0x10444f048>"
      ]
     },
     "execution_count": 7,
     "metadata": {},
     "output_type": "execute_result"
    }
   ],
   "source": [
    "# show the plot\n",
    "show(plot, notebook_handle=True)"
   ]
  },
  {
   "cell_type": "code",
   "execution_count": 8,
   "metadata": {},
   "outputs": [
    {
     "data": {
      "application/vnd.jupyter.widget-view+json": {
       "model_id": "79ee52847cfb4b36963c5141e3541a69",
       "version_major": 2,
       "version_minor": 0
      },
      "text/plain": [
       "A Jupyter Widget"
      ]
     },
     "metadata": {},
     "output_type": "display_data"
    },
    {
     "data": {
      "text/plain": [
       "<function __main__.update_data>"
      ]
     },
     "execution_count": 8,
     "metadata": {},
     "output_type": "execute_result"
    }
   ],
   "source": [
    "interact(update_data, CO2T = (-5, 5))"
   ]
  },
  {
   "cell_type": "code",
   "execution_count": null,
   "metadata": {
    "collapsed": true
   },
   "outputs": [],
   "source": []
  }
 ],
 "metadata": {
  "kernelspec": {
   "display_name": "Python 3",
   "language": "python",
   "name": "python3"
  },
  "language_info": {
   "codemirror_mode": {
    "name": "ipython",
    "version": 3
   },
   "file_extension": ".py",
   "mimetype": "text/x-python",
   "name": "python",
   "nbconvert_exporter": "python",
   "pygments_lexer": "ipython3",
   "version": "3.6.3"
  }
 },
 "nbformat": 4,
 "nbformat_minor": 2
}
