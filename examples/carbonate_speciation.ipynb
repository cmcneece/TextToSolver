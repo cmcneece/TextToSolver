{
 "cells": [
  {
   "cell_type": "code",
   "execution_count": 1,
   "metadata": {
    "collapsed": true
   },
   "outputs": [],
   "source": [
    "from TextToSolver import TextToSolver\n",
    "import numpy as np\n",
    "import matplotlib.pyplot as plt"
   ]
  },
  {
   "cell_type": "code",
   "execution_count": 2,
   "metadata": {
    "collapsed": true
   },
   "outputs": [],
   "source": [
    "residual = ['-pKco2 + pH2CO3 - pPco2',\n",
    "          '-pK1 + pHCO3 + pH - pH2CO3',\n",
    "          '-pK2 + pCO3 + pH - pHCO3',\n",
    "          '-pKw + pH + pOH',\n",
    "          '-10 ** pCO2T + 10 ** pH2CO3 + 10 ** pHCO3 + 10 ** pCO3']\n",
    "\n",
    "ind_vars = ['pH']\n",
    "dep_vars = ['pPco2', 'pHCO3', 'pCO3', 'pH2CO3', 'pOH']\n",
    "parameters = {'pKw': -14, 'pKco2': -1.46, 'pK1': -6.35,\n",
    "                'pK2': -10.33, 'pCO2T': -3}"
   ]
  },
  {
   "cell_type": "code",
   "execution_count": 3,
   "metadata": {
    "collapsed": true
   },
   "outputs": [],
   "source": [
    "sys = TextToSolver(dep_vars, residual, indep_vars=ind_vars,\n",
    "                    parameters=parameters)"
   ]
  },
  {
   "cell_type": "code",
   "execution_count": 4,
   "metadata": {
    "collapsed": true
   },
   "outputs": [],
   "source": [
    "options = {'TOL_FUN': 1e-10, 'TOL_X': 1e-12, 'MAX_ITER': 100}\n",
    "\n",
    "n = 100\n",
    "pH = np.linspace(-14, 0, n)\n",
    "ind_var = {'pH': pH}\n",
    "\n",
    "guess = {}\n",
    "for var in dep_vars:\n",
    "    guess[var] = np.ones(pH.shape)"
   ]
  },
  {
   "cell_type": "code",
   "execution_count": 5,
   "metadata": {
    "collapsed": false
   },
   "outputs": [
    {
     "name": "stdout",
     "output_type": "stream",
     "text": [
      "iter_count            res_norm         convergence          resip_cond           step_norm\n",
      "------------------------------------------------------------------------------------------\n",
      "0                     3.21e+02                 inf            2.50e-03                 inf\n",
      "1                     3.18e+02            6.98e-03            2.50e-03            1.18e+02\n",
      "2                     3.16e+02            7.19e-03            2.51e-03            1.17e+02\n",
      "3                     3.14e+02            7.44e-03            2.50e-03            1.16e+02\n",
      "4                     3.11e+02            7.69e-03            2.49e-03            1.15e+02\n",
      "5                     3.09e+02            7.95e-03            2.47e-03            1.15e+02\n",
      "6                     3.06e+02            8.19e-03            2.44e-03            1.15e+02\n",
      "7                     3.04e+02            8.41e-03            2.42e-03            1.15e+02\n",
      "8                     3.01e+02            8.61e-03            2.39e-03            1.14e+02\n",
      "9                     2.99e+02            6.41e-03            2.37e-03            1.14e+02\n",
      "10                    2.79e+02            7.10e-02            2.03e-03            1.09e+02\n",
      "11                    1.68e+02            5.05e-01            2.02e-03            1.00e+02\n",
      "12                    6.19e+01            1.00e+00            2.69e-03            8.69e+00\n",
      "13                    2.28e+01            1.00e+00            7.19e-03            8.68e+00\n",
      "14                    8.37e+00            1.00e+00            1.76e-02            8.68e+00\n",
      "15                    3.08e+00            1.00e+00            3.10e-02            8.68e+00\n",
      "16                    1.13e+00            1.00e+00            3.66e-02            8.66e+00\n",
      "17                    4.13e-01            1.01e+00            3.76e-02            8.61e+00\n",
      "18                    1.49e-01            1.02e+00            3.78e-02            8.47e+00\n",
      "19                    5.25e-02            1.05e+00            3.78e-02            8.12e+00\n",
      "20                    1.70e-02            1.13e+00            3.78e-02            7.25e+00\n",
      "21                    4.43e-03            1.34e+00            3.78e-02            5.40e+00\n",
      "22                    6.45e-04            1.93e+00            3.78e-02            2.62e+00\n",
      "23                    2.24e-05            3.36e+00            3.78e-02            5.21e-01\n",
      "24                    3.47e-08            6.47e+00            3.78e-02            1.94e-02\n",
      "25                    1.02e-13            1.27e+01            3.78e-02            3.01e-05\n",
      "\n",
      "\n"
     ]
    }
   ],
   "source": [
    "solution, report = sys.solve(guess, indep_var_val=ind_var, input_options=options)"
   ]
  },
  {
   "cell_type": "code",
   "execution_count": 6,
   "metadata": {
    "collapsed": false
   },
   "outputs": [
    {
     "data": {
      "image/png": "[encoded data removed]",
      "text/plain": [
       "<matplotlib.figure.Figure at 0x115f516a0>"
      ]
     },
     "metadata": {},
     "output_type": "display_data"
    }
   ],
   "source": [
    "fig, ax = plt.subplots()\n",
    "for var in solution:\n",
    "    ax.plot(pH, solution[var])\n",
    "\n",
    "plt.show()"
   ]
  },
  {
   "cell_type": "code",
   "execution_count": null,
   "metadata": {
    "collapsed": true
   },
   "outputs": [],
   "source": []
  }
 ],
 "metadata": {
  "kernelspec": {
   "display_name": "Python 3",
   "language": "python",
   "name": "python3"
  },
  "language_info": {
   "codemirror_mode": {
    "name": "ipython",
    "version": 3
   },
   "file_extension": ".py",
   "mimetype": "text/x-python",
   "name": "python",
   "nbconvert_exporter": "python",
   "pygments_lexer": "ipython3",
   "version": "3.5.2"
  }
 },
 "nbformat": 4,
 "nbformat_minor": 2
}
