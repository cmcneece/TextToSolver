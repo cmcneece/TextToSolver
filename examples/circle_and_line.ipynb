{
 "cells": [
  {
   "cell_type": "code",
   "execution_count": 1,
   "metadata": {
    "collapsed": false,
    "deletable": true,
    "editable": true
   },
   "outputs": [],
   "source": [
    "import Text2Solver as t2s\n",
    "import numpy as np\n",
    "import matplotlib.pyplot as plt"
   ]
  },
  {
   "cell_type": "code",
   "execution_count": 2,
   "metadata": {
    "collapsed": true,
    "deletable": true,
    "editable": true
   },
   "outputs": [],
   "source": [
    "residual = ['x ** 2 + y ** 2 - z ** 2', 'y - 5 * x']\n",
    "dep_vars = ['x', 'y']\n",
    "ind_vars = ['z']\n",
    "options = {'TOL_FUN': 1e-10, 'TOL_X': 1e-12}"
   ]
  },
  {
   "cell_type": "code",
   "execution_count": 3,
   "metadata": {
    "collapsed": false,
    "deletable": true,
    "editable": true
   },
   "outputs": [],
   "source": [
    "sys = t2s.Text2Solver(dep_vars, residual, indep_vars=ind_vars)"
   ]
  },
  {
   "cell_type": "code",
   "execution_count": 4,
   "metadata": {
    "collapsed": false,
    "deletable": true,
    "editable": true
   },
   "outputs": [],
   "source": [
    "ind_var = {'z': np.array([1, 2, 3, 4, 5])}\n",
    "guess = {'x': -np.ones(ind_var['z'].shape),\n",
    "        'y': np.ones(ind_var['z'].shape)}"
   ]
  },
  {
   "cell_type": "code",
   "execution_count": 5,
   "metadata": {
    "collapsed": false,
    "deletable": true,
    "editable": true
   },
   "outputs": [
    {
     "name": "stdout",
     "output_type": "stream",
     "text": [
      "iter_count            res_norm         convergence          resip_cond           step_norm\n",
      "------------------------------------------------------------------------------------------\n",
      "0                     3.10e+01                 inf            7.67e-02                 inf\n",
      "1                     2.53e+01            2.03e-01            7.67e-02            2.10e+01\n",
      "2                     2.25e+01            1.15e-01            6.97e-02            6.99e+00\n",
      "3                     1.47e+01            4.25e-01            6.71e-02            5.28e+00\n",
      "4                     1.20e+00            2.51e+00            4.66e-02            1.54e+00\n",
      "5                     1.29e-02            4.53e+00            5.27e-02            1.69e-01\n",
      "6                     6.92e-06            7.53e+00            5.34e-02            3.13e-03\n",
      "7                     1.13e-11            1.33e+01            5.35e-02            3.38e-06\n",
      "\n",
      "\n"
     ]
    }
   ],
   "source": [
    "solution, report = sys.solve(guess, indep_var_val=ind_var, input_options=options)"
   ]
  },
  {
   "cell_type": "code",
   "execution_count": 6,
   "metadata": {
    "collapsed": false,
    "deletable": true,
    "editable": true
   },
   "outputs": [
    {
     "data": {
      "text/plain": [
       "{'x': array([ 0.19611614,  0.39223227,  0.58834841,  0.78446454,  0.98058068]),\n",
       " 'y': array([ 0.98058068,  1.96116135,  2.94174203,  3.9223227 ,  4.90290338])}"
      ]
     },
     "execution_count": 6,
     "metadata": {},
     "output_type": "execute_result"
    }
   ],
   "source": [
    "solution"
   ]
  },
  {
   "cell_type": "code",
   "execution_count": 7,
   "metadata": {
    "collapsed": false,
    "deletable": true,
    "editable": true
   },
   "outputs": [
    {
     "data": {
      "text/plain": [
       "{'exit_flag': 1,\n",
       " 'iter_count': 7,\n",
       " 'res_norm': 1.1314446980594084e-11,\n",
       " 'resip_cond': 0.053452248382481395}"
      ]
     },
     "execution_count": 7,
     "metadata": {},
     "output_type": "execute_result"
    }
   ],
   "source": [
    "report"
   ]
  },
  {
   "cell_type": "code",
   "execution_count": 8,
   "metadata": {
    "collapsed": false,
    "deletable": true,
    "editable": true
   },
   "outputs": [],
   "source": [
    "fig, ax = plt.subplots()\n",
    "ax.plot(solution['x'], solution['y'],'or')\n",
    "for ind, val in enumerate(ind_var['z']):\n",
    "    ax.annotate('z = ' + str(val), (solution['x'][ind], solution['y'][ind]), ha='center')"
   ]
  },
  {
   "cell_type": "code",
   "execution_count": 9,
   "metadata": {
    "collapsed": false,
    "deletable": true,
    "editable": true
   },
   "outputs": [
    {
     "data": {
      "image/png": "[encoded data removed]",
      "text/plain": [
       "<matplotlib.figure.Figure at 0x1154e6be0>"
      ]
     },
     "metadata": {},
     "output_type": "display_data"
    }
   ],
   "source": [
    "plt.show()"
   ]
  },
  {
   "cell_type": "code",
   "execution_count": null,
   "metadata": {
    "collapsed": true,
    "deletable": true,
    "editable": true
   },
   "outputs": [],
   "source": []
  }
 ],
 "metadata": {
  "kernelspec": {
   "display_name": "Python 3",
   "language": "python",
   "name": "python3"
  },
  "language_info": {
   "codemirror_mode": {
    "name": "ipython",
    "version": 3
   },
   "file_extension": ".py",
   "mimetype": "text/x-python",
   "name": "python",
   "nbconvert_exporter": "python",
   "pygments_lexer": "ipython3",
   "version": "3.5.2"
  }
 },
 "nbformat": 4,
 "nbformat_minor": 2
}
